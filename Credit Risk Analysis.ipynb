{
 "cells": [
  {
   "cell_type": "code",
   "execution_count": 1,
   "id": "e9413b53-6de3-41b2-8854-04bafe23d2d8",
   "metadata": {
    "tags": []
   },
   "outputs": [],
   "source": [
    "import pandas as pd\n",
    "import matplotlib.pyplot as plt\n",
    "import seaborn as sns\n",
    "import numpy as np\n",
    "\n",
    "from sklearn.linear_model import LogisticRegression\n",
    "from sklearn.linear_model import SGDClassifier\n",
    "from sklearn.linear_model import LogisticRegression\n",
    "from sklearn.ensemble import RandomForestClassifier\n",
    "\n",
    "\n",
    "from sklearn.preprocessing import OneHotEncoder\n",
    "from sklearn.preprocessing import StandardScaler\n",
    "from sklearn.model_selection import train_test_split\n",
    "from sklearn.compose import ColumnTransformer\n",
    "from sklearn.pipeline import Pipeline\n",
    "from sklearn.model_selection import GridSearchCV\n",
    "\n",
    "from sklearn.metrics import confusion_matrix\n",
    "from sklearn.metrics import precision_score, recall_score, roc_auc_score"
   ]
  },
  {
   "cell_type": "code",
   "execution_count": 2,
   "id": "1e6491b6-1591-44dc-b45b-deea432d223b",
   "metadata": {
    "tags": []
   },
   "outputs": [],
   "source": [
    "original_df = pd.read_csv(r'C:\\\\Users\\\\jaspe\\\\OneDrive\\\\Documents\\\\Credit Risk\\\\credit_risk_dataset.csv')"
   ]
  },
  {
   "cell_type": "code",
   "execution_count": 3,
   "id": "310acf7b-15ae-48c8-84a3-8ba5cfe6a670",
   "metadata": {
    "tags": []
   },
   "outputs": [],
   "source": [
    "original_df = pd.DataFrame(original_df)"
   ]
  },
  {
   "cell_type": "code",
   "execution_count": 4,
   "id": "b253527f-9a59-47b4-9539-b05b65aa7367",
   "metadata": {
    "tags": []
   },
   "outputs": [
    {
     "data": {
      "text/html": [
       "<div>\n",
       "<style scoped>\n",
       "    .dataframe tbody tr th:only-of-type {\n",
       "        vertical-align: middle;\n",
       "    }\n",
       "\n",
       "    .dataframe tbody tr th {\n",
       "        vertical-align: top;\n",
       "    }\n",
       "\n",
       "    .dataframe thead th {\n",
       "        text-align: right;\n",
       "    }\n",
       "</style>\n",
       "<table border=\"1\" class=\"dataframe\">\n",
       "  <thead>\n",
       "    <tr style=\"text-align: right;\">\n",
       "      <th></th>\n",
       "      <th>person_age</th>\n",
       "      <th>person_income</th>\n",
       "      <th>person_home_ownership</th>\n",
       "      <th>person_emp_length</th>\n",
       "      <th>loan_intent</th>\n",
       "      <th>loan_grade</th>\n",
       "      <th>loan_amnt</th>\n",
       "      <th>loan_int_rate</th>\n",
       "      <th>loan_status</th>\n",
       "      <th>loan_percent_income</th>\n",
       "      <th>cb_person_default_on_file</th>\n",
       "      <th>cb_person_cred_hist_length</th>\n",
       "    </tr>\n",
       "  </thead>\n",
       "  <tbody>\n",
       "    <tr>\n",
       "      <th>0</th>\n",
       "      <td>22</td>\n",
       "      <td>59000</td>\n",
       "      <td>RENT</td>\n",
       "      <td>123.0</td>\n",
       "      <td>PERSONAL</td>\n",
       "      <td>D</td>\n",
       "      <td>35000</td>\n",
       "      <td>16.02</td>\n",
       "      <td>1</td>\n",
       "      <td>0.59</td>\n",
       "      <td>Y</td>\n",
       "      <td>3</td>\n",
       "    </tr>\n",
       "    <tr>\n",
       "      <th>1</th>\n",
       "      <td>21</td>\n",
       "      <td>9600</td>\n",
       "      <td>OWN</td>\n",
       "      <td>5.0</td>\n",
       "      <td>EDUCATION</td>\n",
       "      <td>B</td>\n",
       "      <td>1000</td>\n",
       "      <td>11.14</td>\n",
       "      <td>0</td>\n",
       "      <td>0.10</td>\n",
       "      <td>N</td>\n",
       "      <td>2</td>\n",
       "    </tr>\n",
       "    <tr>\n",
       "      <th>2</th>\n",
       "      <td>25</td>\n",
       "      <td>9600</td>\n",
       "      <td>MORTGAGE</td>\n",
       "      <td>1.0</td>\n",
       "      <td>MEDICAL</td>\n",
       "      <td>C</td>\n",
       "      <td>5500</td>\n",
       "      <td>12.87</td>\n",
       "      <td>1</td>\n",
       "      <td>0.57</td>\n",
       "      <td>N</td>\n",
       "      <td>3</td>\n",
       "    </tr>\n",
       "    <tr>\n",
       "      <th>3</th>\n",
       "      <td>23</td>\n",
       "      <td>65500</td>\n",
       "      <td>RENT</td>\n",
       "      <td>4.0</td>\n",
       "      <td>MEDICAL</td>\n",
       "      <td>C</td>\n",
       "      <td>35000</td>\n",
       "      <td>15.23</td>\n",
       "      <td>1</td>\n",
       "      <td>0.53</td>\n",
       "      <td>N</td>\n",
       "      <td>2</td>\n",
       "    </tr>\n",
       "    <tr>\n",
       "      <th>4</th>\n",
       "      <td>24</td>\n",
       "      <td>54400</td>\n",
       "      <td>RENT</td>\n",
       "      <td>8.0</td>\n",
       "      <td>MEDICAL</td>\n",
       "      <td>C</td>\n",
       "      <td>35000</td>\n",
       "      <td>14.27</td>\n",
       "      <td>1</td>\n",
       "      <td>0.55</td>\n",
       "      <td>Y</td>\n",
       "      <td>4</td>\n",
       "    </tr>\n",
       "    <tr>\n",
       "      <th>...</th>\n",
       "      <td>...</td>\n",
       "      <td>...</td>\n",
       "      <td>...</td>\n",
       "      <td>...</td>\n",
       "      <td>...</td>\n",
       "      <td>...</td>\n",
       "      <td>...</td>\n",
       "      <td>...</td>\n",
       "      <td>...</td>\n",
       "      <td>...</td>\n",
       "      <td>...</td>\n",
       "      <td>...</td>\n",
       "    </tr>\n",
       "    <tr>\n",
       "      <th>32576</th>\n",
       "      <td>57</td>\n",
       "      <td>53000</td>\n",
       "      <td>MORTGAGE</td>\n",
       "      <td>1.0</td>\n",
       "      <td>PERSONAL</td>\n",
       "      <td>C</td>\n",
       "      <td>5800</td>\n",
       "      <td>13.16</td>\n",
       "      <td>0</td>\n",
       "      <td>0.11</td>\n",
       "      <td>N</td>\n",
       "      <td>30</td>\n",
       "    </tr>\n",
       "    <tr>\n",
       "      <th>32577</th>\n",
       "      <td>54</td>\n",
       "      <td>120000</td>\n",
       "      <td>MORTGAGE</td>\n",
       "      <td>4.0</td>\n",
       "      <td>PERSONAL</td>\n",
       "      <td>A</td>\n",
       "      <td>17625</td>\n",
       "      <td>7.49</td>\n",
       "      <td>0</td>\n",
       "      <td>0.15</td>\n",
       "      <td>N</td>\n",
       "      <td>19</td>\n",
       "    </tr>\n",
       "    <tr>\n",
       "      <th>32578</th>\n",
       "      <td>65</td>\n",
       "      <td>76000</td>\n",
       "      <td>RENT</td>\n",
       "      <td>3.0</td>\n",
       "      <td>HOMEIMPROVEMENT</td>\n",
       "      <td>B</td>\n",
       "      <td>35000</td>\n",
       "      <td>10.99</td>\n",
       "      <td>1</td>\n",
       "      <td>0.46</td>\n",
       "      <td>N</td>\n",
       "      <td>28</td>\n",
       "    </tr>\n",
       "    <tr>\n",
       "      <th>32579</th>\n",
       "      <td>56</td>\n",
       "      <td>150000</td>\n",
       "      <td>MORTGAGE</td>\n",
       "      <td>5.0</td>\n",
       "      <td>PERSONAL</td>\n",
       "      <td>B</td>\n",
       "      <td>15000</td>\n",
       "      <td>11.48</td>\n",
       "      <td>0</td>\n",
       "      <td>0.10</td>\n",
       "      <td>N</td>\n",
       "      <td>26</td>\n",
       "    </tr>\n",
       "    <tr>\n",
       "      <th>32580</th>\n",
       "      <td>66</td>\n",
       "      <td>42000</td>\n",
       "      <td>RENT</td>\n",
       "      <td>2.0</td>\n",
       "      <td>MEDICAL</td>\n",
       "      <td>B</td>\n",
       "      <td>6475</td>\n",
       "      <td>9.99</td>\n",
       "      <td>0</td>\n",
       "      <td>0.15</td>\n",
       "      <td>N</td>\n",
       "      <td>30</td>\n",
       "    </tr>\n",
       "  </tbody>\n",
       "</table>\n",
       "<p>32581 rows × 12 columns</p>\n",
       "</div>"
      ],
      "text/plain": [
       "       person_age  person_income person_home_ownership  person_emp_length  \\\n",
       "0              22          59000                  RENT              123.0   \n",
       "1              21           9600                   OWN                5.0   \n",
       "2              25           9600              MORTGAGE                1.0   \n",
       "3              23          65500                  RENT                4.0   \n",
       "4              24          54400                  RENT                8.0   \n",
       "...           ...            ...                   ...                ...   \n",
       "32576          57          53000              MORTGAGE                1.0   \n",
       "32577          54         120000              MORTGAGE                4.0   \n",
       "32578          65          76000                  RENT                3.0   \n",
       "32579          56         150000              MORTGAGE                5.0   \n",
       "32580          66          42000                  RENT                2.0   \n",
       "\n",
       "           loan_intent loan_grade  loan_amnt  loan_int_rate  loan_status  \\\n",
       "0             PERSONAL          D      35000          16.02            1   \n",
       "1            EDUCATION          B       1000          11.14            0   \n",
       "2              MEDICAL          C       5500          12.87            1   \n",
       "3              MEDICAL          C      35000          15.23            1   \n",
       "4              MEDICAL          C      35000          14.27            1   \n",
       "...                ...        ...        ...            ...          ...   \n",
       "32576         PERSONAL          C       5800          13.16            0   \n",
       "32577         PERSONAL          A      17625           7.49            0   \n",
       "32578  HOMEIMPROVEMENT          B      35000          10.99            1   \n",
       "32579         PERSONAL          B      15000          11.48            0   \n",
       "32580          MEDICAL          B       6475           9.99            0   \n",
       "\n",
       "       loan_percent_income cb_person_default_on_file  \\\n",
       "0                     0.59                         Y   \n",
       "1                     0.10                         N   \n",
       "2                     0.57                         N   \n",
       "3                     0.53                         N   \n",
       "4                     0.55                         Y   \n",
       "...                    ...                       ...   \n",
       "32576                 0.11                         N   \n",
       "32577                 0.15                         N   \n",
       "32578                 0.46                         N   \n",
       "32579                 0.10                         N   \n",
       "32580                 0.15                         N   \n",
       "\n",
       "       cb_person_cred_hist_length  \n",
       "0                               3  \n",
       "1                               2  \n",
       "2                               3  \n",
       "3                               2  \n",
       "4                               4  \n",
       "...                           ...  \n",
       "32576                          30  \n",
       "32577                          19  \n",
       "32578                          28  \n",
       "32579                          26  \n",
       "32580                          30  \n",
       "\n",
       "[32581 rows x 12 columns]"
      ]
     },
     "execution_count": 4,
     "metadata": {},
     "output_type": "execute_result"
    }
   ],
   "source": [
    "original_df"
   ]
  },
  {
   "cell_type": "code",
   "execution_count": 5,
   "id": "2ebeb0c9-7be8-4eb1-829f-ba73413ecbfb",
   "metadata": {
    "tags": []
   },
   "outputs": [
    {
     "data": {
      "text/plain": [
       "(32581, 12)"
      ]
     },
     "execution_count": 5,
     "metadata": {},
     "output_type": "execute_result"
    }
   ],
   "source": [
    "original_df.shape"
   ]
  },
  {
   "cell_type": "code",
   "execution_count": 6,
   "id": "97ea2b6c-89b0-4fd2-aab2-147f7a82799c",
   "metadata": {
    "tags": []
   },
   "outputs": [
    {
     "data": {
      "text/html": [
       "<div>\n",
       "<style scoped>\n",
       "    .dataframe tbody tr th:only-of-type {\n",
       "        vertical-align: middle;\n",
       "    }\n",
       "\n",
       "    .dataframe tbody tr th {\n",
       "        vertical-align: top;\n",
       "    }\n",
       "\n",
       "    .dataframe thead th {\n",
       "        text-align: right;\n",
       "    }\n",
       "</style>\n",
       "<table border=\"1\" class=\"dataframe\">\n",
       "  <thead>\n",
       "    <tr style=\"text-align: right;\">\n",
       "      <th></th>\n",
       "      <th>person_age</th>\n",
       "      <th>person_income</th>\n",
       "      <th>person_home_ownership</th>\n",
       "      <th>person_emp_length</th>\n",
       "      <th>loan_intent</th>\n",
       "      <th>loan_grade</th>\n",
       "      <th>loan_amnt</th>\n",
       "      <th>loan_int_rate</th>\n",
       "      <th>loan_status</th>\n",
       "      <th>loan_percent_income</th>\n",
       "      <th>cb_person_default_on_file</th>\n",
       "      <th>cb_person_cred_hist_length</th>\n",
       "    </tr>\n",
       "  </thead>\n",
       "  <tbody>\n",
       "    <tr>\n",
       "      <th>count</th>\n",
       "      <td>32581.000000</td>\n",
       "      <td>3.258100e+04</td>\n",
       "      <td>32581</td>\n",
       "      <td>31686.000000</td>\n",
       "      <td>32581</td>\n",
       "      <td>32581</td>\n",
       "      <td>32581.000000</td>\n",
       "      <td>29465.000000</td>\n",
       "      <td>32581.000000</td>\n",
       "      <td>32581.000000</td>\n",
       "      <td>32581</td>\n",
       "      <td>32581.000000</td>\n",
       "    </tr>\n",
       "    <tr>\n",
       "      <th>unique</th>\n",
       "      <td>NaN</td>\n",
       "      <td>NaN</td>\n",
       "      <td>4</td>\n",
       "      <td>NaN</td>\n",
       "      <td>6</td>\n",
       "      <td>7</td>\n",
       "      <td>NaN</td>\n",
       "      <td>NaN</td>\n",
       "      <td>NaN</td>\n",
       "      <td>NaN</td>\n",
       "      <td>2</td>\n",
       "      <td>NaN</td>\n",
       "    </tr>\n",
       "    <tr>\n",
       "      <th>top</th>\n",
       "      <td>NaN</td>\n",
       "      <td>NaN</td>\n",
       "      <td>RENT</td>\n",
       "      <td>NaN</td>\n",
       "      <td>EDUCATION</td>\n",
       "      <td>A</td>\n",
       "      <td>NaN</td>\n",
       "      <td>NaN</td>\n",
       "      <td>NaN</td>\n",
       "      <td>NaN</td>\n",
       "      <td>N</td>\n",
       "      <td>NaN</td>\n",
       "    </tr>\n",
       "    <tr>\n",
       "      <th>freq</th>\n",
       "      <td>NaN</td>\n",
       "      <td>NaN</td>\n",
       "      <td>16446</td>\n",
       "      <td>NaN</td>\n",
       "      <td>6453</td>\n",
       "      <td>10777</td>\n",
       "      <td>NaN</td>\n",
       "      <td>NaN</td>\n",
       "      <td>NaN</td>\n",
       "      <td>NaN</td>\n",
       "      <td>26836</td>\n",
       "      <td>NaN</td>\n",
       "    </tr>\n",
       "    <tr>\n",
       "      <th>mean</th>\n",
       "      <td>27.734600</td>\n",
       "      <td>6.607485e+04</td>\n",
       "      <td>NaN</td>\n",
       "      <td>4.789686</td>\n",
       "      <td>NaN</td>\n",
       "      <td>NaN</td>\n",
       "      <td>9589.371106</td>\n",
       "      <td>11.011695</td>\n",
       "      <td>0.218164</td>\n",
       "      <td>0.170203</td>\n",
       "      <td>NaN</td>\n",
       "      <td>5.804211</td>\n",
       "    </tr>\n",
       "    <tr>\n",
       "      <th>std</th>\n",
       "      <td>6.348078</td>\n",
       "      <td>6.198312e+04</td>\n",
       "      <td>NaN</td>\n",
       "      <td>4.142630</td>\n",
       "      <td>NaN</td>\n",
       "      <td>NaN</td>\n",
       "      <td>6322.086646</td>\n",
       "      <td>3.240459</td>\n",
       "      <td>0.413006</td>\n",
       "      <td>0.106782</td>\n",
       "      <td>NaN</td>\n",
       "      <td>4.055001</td>\n",
       "    </tr>\n",
       "    <tr>\n",
       "      <th>min</th>\n",
       "      <td>20.000000</td>\n",
       "      <td>4.000000e+03</td>\n",
       "      <td>NaN</td>\n",
       "      <td>0.000000</td>\n",
       "      <td>NaN</td>\n",
       "      <td>NaN</td>\n",
       "      <td>500.000000</td>\n",
       "      <td>5.420000</td>\n",
       "      <td>0.000000</td>\n",
       "      <td>0.000000</td>\n",
       "      <td>NaN</td>\n",
       "      <td>2.000000</td>\n",
       "    </tr>\n",
       "    <tr>\n",
       "      <th>25%</th>\n",
       "      <td>23.000000</td>\n",
       "      <td>3.850000e+04</td>\n",
       "      <td>NaN</td>\n",
       "      <td>2.000000</td>\n",
       "      <td>NaN</td>\n",
       "      <td>NaN</td>\n",
       "      <td>5000.000000</td>\n",
       "      <td>7.900000</td>\n",
       "      <td>0.000000</td>\n",
       "      <td>0.090000</td>\n",
       "      <td>NaN</td>\n",
       "      <td>3.000000</td>\n",
       "    </tr>\n",
       "    <tr>\n",
       "      <th>50%</th>\n",
       "      <td>26.000000</td>\n",
       "      <td>5.500000e+04</td>\n",
       "      <td>NaN</td>\n",
       "      <td>4.000000</td>\n",
       "      <td>NaN</td>\n",
       "      <td>NaN</td>\n",
       "      <td>8000.000000</td>\n",
       "      <td>10.990000</td>\n",
       "      <td>0.000000</td>\n",
       "      <td>0.150000</td>\n",
       "      <td>NaN</td>\n",
       "      <td>4.000000</td>\n",
       "    </tr>\n",
       "    <tr>\n",
       "      <th>75%</th>\n",
       "      <td>30.000000</td>\n",
       "      <td>7.920000e+04</td>\n",
       "      <td>NaN</td>\n",
       "      <td>7.000000</td>\n",
       "      <td>NaN</td>\n",
       "      <td>NaN</td>\n",
       "      <td>12200.000000</td>\n",
       "      <td>13.470000</td>\n",
       "      <td>0.000000</td>\n",
       "      <td>0.230000</td>\n",
       "      <td>NaN</td>\n",
       "      <td>8.000000</td>\n",
       "    </tr>\n",
       "    <tr>\n",
       "      <th>max</th>\n",
       "      <td>144.000000</td>\n",
       "      <td>6.000000e+06</td>\n",
       "      <td>NaN</td>\n",
       "      <td>123.000000</td>\n",
       "      <td>NaN</td>\n",
       "      <td>NaN</td>\n",
       "      <td>35000.000000</td>\n",
       "      <td>23.220000</td>\n",
       "      <td>1.000000</td>\n",
       "      <td>0.830000</td>\n",
       "      <td>NaN</td>\n",
       "      <td>30.000000</td>\n",
       "    </tr>\n",
       "  </tbody>\n",
       "</table>\n",
       "</div>"
      ],
      "text/plain": [
       "          person_age  person_income person_home_ownership  person_emp_length  \\\n",
       "count   32581.000000   3.258100e+04                 32581       31686.000000   \n",
       "unique           NaN            NaN                     4                NaN   \n",
       "top              NaN            NaN                  RENT                NaN   \n",
       "freq             NaN            NaN                 16446                NaN   \n",
       "mean       27.734600   6.607485e+04                   NaN           4.789686   \n",
       "std         6.348078   6.198312e+04                   NaN           4.142630   \n",
       "min        20.000000   4.000000e+03                   NaN           0.000000   \n",
       "25%        23.000000   3.850000e+04                   NaN           2.000000   \n",
       "50%        26.000000   5.500000e+04                   NaN           4.000000   \n",
       "75%        30.000000   7.920000e+04                   NaN           7.000000   \n",
       "max       144.000000   6.000000e+06                   NaN         123.000000   \n",
       "\n",
       "       loan_intent loan_grade     loan_amnt  loan_int_rate   loan_status  \\\n",
       "count        32581      32581  32581.000000   29465.000000  32581.000000   \n",
       "unique           6          7           NaN            NaN           NaN   \n",
       "top      EDUCATION          A           NaN            NaN           NaN   \n",
       "freq          6453      10777           NaN            NaN           NaN   \n",
       "mean           NaN        NaN   9589.371106      11.011695      0.218164   \n",
       "std            NaN        NaN   6322.086646       3.240459      0.413006   \n",
       "min            NaN        NaN    500.000000       5.420000      0.000000   \n",
       "25%            NaN        NaN   5000.000000       7.900000      0.000000   \n",
       "50%            NaN        NaN   8000.000000      10.990000      0.000000   \n",
       "75%            NaN        NaN  12200.000000      13.470000      0.000000   \n",
       "max            NaN        NaN  35000.000000      23.220000      1.000000   \n",
       "\n",
       "        loan_percent_income cb_person_default_on_file  \\\n",
       "count          32581.000000                     32581   \n",
       "unique                  NaN                         2   \n",
       "top                     NaN                         N   \n",
       "freq                    NaN                     26836   \n",
       "mean               0.170203                       NaN   \n",
       "std                0.106782                       NaN   \n",
       "min                0.000000                       NaN   \n",
       "25%                0.090000                       NaN   \n",
       "50%                0.150000                       NaN   \n",
       "75%                0.230000                       NaN   \n",
       "max                0.830000                       NaN   \n",
       "\n",
       "        cb_person_cred_hist_length  \n",
       "count                 32581.000000  \n",
       "unique                         NaN  \n",
       "top                            NaN  \n",
       "freq                           NaN  \n",
       "mean                      5.804211  \n",
       "std                       4.055001  \n",
       "min                       2.000000  \n",
       "25%                       3.000000  \n",
       "50%                       4.000000  \n",
       "75%                       8.000000  \n",
       "max                      30.000000  "
      ]
     },
     "execution_count": 6,
     "metadata": {},
     "output_type": "execute_result"
    }
   ],
   "source": [
    "original_df.describe(include='all')"
   ]
  },
  {
   "cell_type": "code",
   "execution_count": 7,
   "id": "9bcff2fc-e581-4130-8a80-14bbe7dd6947",
   "metadata": {
    "tags": []
   },
   "outputs": [
    {
     "data": {
      "text/plain": [
       "person_age                      int64\n",
       "person_income                   int64\n",
       "person_home_ownership          object\n",
       "person_emp_length             float64\n",
       "loan_intent                    object\n",
       "loan_grade                     object\n",
       "loan_amnt                       int64\n",
       "loan_int_rate                 float64\n",
       "loan_status                     int64\n",
       "loan_percent_income           float64\n",
       "cb_person_default_on_file      object\n",
       "cb_person_cred_hist_length      int64\n",
       "dtype: object"
      ]
     },
     "execution_count": 7,
     "metadata": {},
     "output_type": "execute_result"
    }
   ],
   "source": [
    "original_df.dtypes"
   ]
  },
  {
   "cell_type": "code",
   "execution_count": 8,
   "id": "0029e1b4-9fb6-4e4d-869a-6660d50e5665",
   "metadata": {
    "tags": []
   },
   "outputs": [
    {
     "data": {
      "text/plain": [
       "person_age                       0\n",
       "person_income                    0\n",
       "person_home_ownership            0\n",
       "person_emp_length              895\n",
       "loan_intent                      0\n",
       "loan_grade                       0\n",
       "loan_amnt                        0\n",
       "loan_int_rate                 3116\n",
       "loan_status                      0\n",
       "loan_percent_income              0\n",
       "cb_person_default_on_file        0\n",
       "cb_person_cred_hist_length       0\n",
       "dtype: int64"
      ]
     },
     "execution_count": 8,
     "metadata": {},
     "output_type": "execute_result"
    }
   ],
   "source": [
    "original_df.isna().sum()"
   ]
  },
  {
   "cell_type": "markdown",
   "id": "a7469b12-c782-4045-9754-d6b1fa5ecd21",
   "metadata": {},
   "source": [
    "<h3>Observation:</h3>\n",
    "\n",
    "- We have 4 categorical variables\n",
    "- Based off \"person_age\" and \"person_emp_length\", there seems to be some outliers which does not make sense e.g. 144 years old\n",
    "- There is a total of 32581 records with 12 coumns/features\n",
    "- We do have null values present\n",
    "    - person_emp_length = 895\n",
    "    - loan_int_rate = 3116\n",
    "\n",
    "<h3>Cleaning tasks:</h3>\n",
    "\n",
    "- Observe features with null values and determine their spread, possibly impute with central tendency\n",
    "- Remove any outliers associated with person_age and person_emp_length"
   ]
  },
  {
   "cell_type": "markdown",
   "id": "99609c86-0e36-4d11-bb1a-51187ce13d5a",
   "metadata": {},
   "source": [
    "<h3>Remove outliers</h3>"
   ]
  },
  {
   "cell_type": "code",
   "execution_count": 9,
   "id": "37792e18-086c-42ef-982d-4ce23eda177f",
   "metadata": {
    "tags": []
   },
   "outputs": [
    {
     "data": {
      "text/plain": [
       "<Axes: >"
      ]
     },
     "execution_count": 9,
     "metadata": {},
     "output_type": "execute_result"
    },
    {
     "data": {
      "image/png": "[encoded data removed]",
      "text/plain": [
       "<Figure size 640x480 with 1 Axes>"
      ]
     },
     "metadata": {},
     "output_type": "display_data"
    }
   ],
   "source": [
    "original_df['person_age'].plot(kind='box')"
   ]
  },
  {
   "cell_type": "markdown",
   "id": "ee43d413-cef1-49e1-9cb9-86a08ecb31f3",
   "metadata": {},
   "source": [
    "Based of Australia, the maxmium loan age of Australians is 75 years old. We can see above that ou data set consists of several records which exceed 75 years of age.\n",
    "\n",
    "Therefore, we will filter out all values beyond 75 years of age"
   ]
  },
  {
   "cell_type": "code",
   "execution_count": 10,
   "id": "b684ade5-42bb-4270-9b4d-ac60b09d28fd",
   "metadata": {
    "tags": []
   },
   "outputs": [
    {
     "data": {
      "text/plain": [
       "<Axes: >"
      ]
     },
     "execution_count": 10,
     "metadata": {},
     "output_type": "execute_result"
    },
    {
     "data": {
      "image/png": "[encoded data removed]",
      "text/plain": [
       "<Figure size 640x480 with 1 Axes>"
      ]
     },
     "metadata": {},
     "output_type": "display_data"
    }
   ],
   "source": [
    "original_df['person_emp_length'].plot(kind='box')"
   ]
  },
  {
   "cell_type": "markdown",
   "id": "8d0a9023-fae6-4e7d-8626-1bfca850b5c7",
   "metadata": {},
   "source": [
    "Work length seems to be reasonable in terms of most ages, 123 years of employment does not make sense, we'll filter this out as well."
   ]
  },
  {
   "cell_type": "code",
   "execution_count": 11,
   "id": "7234b279-ce25-457f-bc18-dcfa5f010132",
   "metadata": {
    "tags": []
   },
   "outputs": [
    {
     "data": {
      "text/html": [
       "<div>\n",
       "<style scoped>\n",
       "    .dataframe tbody tr th:only-of-type {\n",
       "        vertical-align: middle;\n",
       "    }\n",
       "\n",
       "    .dataframe tbody tr th {\n",
       "        vertical-align: top;\n",
       "    }\n",
       "\n",
       "    .dataframe thead th {\n",
       "        text-align: right;\n",
       "    }\n",
       "</style>\n",
       "<table border=\"1\" class=\"dataframe\">\n",
       "  <thead>\n",
       "    <tr style=\"text-align: right;\">\n",
       "      <th></th>\n",
       "      <th>person_age</th>\n",
       "      <th>person_income</th>\n",
       "      <th>person_home_ownership</th>\n",
       "      <th>person_emp_length</th>\n",
       "      <th>loan_intent</th>\n",
       "      <th>loan_grade</th>\n",
       "      <th>loan_amnt</th>\n",
       "      <th>loan_int_rate</th>\n",
       "      <th>loan_status</th>\n",
       "      <th>loan_percent_income</th>\n",
       "      <th>cb_person_default_on_file</th>\n",
       "      <th>cb_person_cred_hist_length</th>\n",
       "    </tr>\n",
       "  </thead>\n",
       "  <tbody>\n",
       "    <tr>\n",
       "      <th>1</th>\n",
       "      <td>21</td>\n",
       "      <td>9600</td>\n",
       "      <td>OWN</td>\n",
       "      <td>5.0</td>\n",
       "      <td>EDUCATION</td>\n",
       "      <td>B</td>\n",
       "      <td>1000</td>\n",
       "      <td>11.14</td>\n",
       "      <td>0</td>\n",
       "      <td>0.10</td>\n",
       "      <td>N</td>\n",
       "      <td>2</td>\n",
       "    </tr>\n",
       "    <tr>\n",
       "      <th>2</th>\n",
       "      <td>25</td>\n",
       "      <td>9600</td>\n",
       "      <td>MORTGAGE</td>\n",
       "      <td>1.0</td>\n",
       "      <td>MEDICAL</td>\n",
       "      <td>C</td>\n",
       "      <td>5500</td>\n",
       "      <td>12.87</td>\n",
       "      <td>1</td>\n",
       "      <td>0.57</td>\n",
       "      <td>N</td>\n",
       "      <td>3</td>\n",
       "    </tr>\n",
       "    <tr>\n",
       "      <th>3</th>\n",
       "      <td>23</td>\n",
       "      <td>65500</td>\n",
       "      <td>RENT</td>\n",
       "      <td>4.0</td>\n",
       "      <td>MEDICAL</td>\n",
       "      <td>C</td>\n",
       "      <td>35000</td>\n",
       "      <td>15.23</td>\n",
       "      <td>1</td>\n",
       "      <td>0.53</td>\n",
       "      <td>N</td>\n",
       "      <td>2</td>\n",
       "    </tr>\n",
       "    <tr>\n",
       "      <th>4</th>\n",
       "      <td>24</td>\n",
       "      <td>54400</td>\n",
       "      <td>RENT</td>\n",
       "      <td>8.0</td>\n",
       "      <td>MEDICAL</td>\n",
       "      <td>C</td>\n",
       "      <td>35000</td>\n",
       "      <td>14.27</td>\n",
       "      <td>1</td>\n",
       "      <td>0.55</td>\n",
       "      <td>Y</td>\n",
       "      <td>4</td>\n",
       "    </tr>\n",
       "    <tr>\n",
       "      <th>5</th>\n",
       "      <td>21</td>\n",
       "      <td>9900</td>\n",
       "      <td>OWN</td>\n",
       "      <td>2.0</td>\n",
       "      <td>VENTURE</td>\n",
       "      <td>A</td>\n",
       "      <td>2500</td>\n",
       "      <td>7.14</td>\n",
       "      <td>1</td>\n",
       "      <td>0.25</td>\n",
       "      <td>N</td>\n",
       "      <td>2</td>\n",
       "    </tr>\n",
       "    <tr>\n",
       "      <th>...</th>\n",
       "      <td>...</td>\n",
       "      <td>...</td>\n",
       "      <td>...</td>\n",
       "      <td>...</td>\n",
       "      <td>...</td>\n",
       "      <td>...</td>\n",
       "      <td>...</td>\n",
       "      <td>...</td>\n",
       "      <td>...</td>\n",
       "      <td>...</td>\n",
       "      <td>...</td>\n",
       "      <td>...</td>\n",
       "    </tr>\n",
       "    <tr>\n",
       "      <th>32576</th>\n",
       "      <td>57</td>\n",
       "      <td>53000</td>\n",
       "      <td>MORTGAGE</td>\n",
       "      <td>1.0</td>\n",
       "      <td>PERSONAL</td>\n",
       "      <td>C</td>\n",
       "      <td>5800</td>\n",
       "      <td>13.16</td>\n",
       "      <td>0</td>\n",
       "      <td>0.11</td>\n",
       "      <td>N</td>\n",
       "      <td>30</td>\n",
       "    </tr>\n",
       "    <tr>\n",
       "      <th>32577</th>\n",
       "      <td>54</td>\n",
       "      <td>120000</td>\n",
       "      <td>MORTGAGE</td>\n",
       "      <td>4.0</td>\n",
       "      <td>PERSONAL</td>\n",
       "      <td>A</td>\n",
       "      <td>17625</td>\n",
       "      <td>7.49</td>\n",
       "      <td>0</td>\n",
       "      <td>0.15</td>\n",
       "      <td>N</td>\n",
       "      <td>19</td>\n",
       "    </tr>\n",
       "    <tr>\n",
       "      <th>32578</th>\n",
       "      <td>65</td>\n",
       "      <td>76000</td>\n",
       "      <td>RENT</td>\n",
       "      <td>3.0</td>\n",
       "      <td>HOMEIMPROVEMENT</td>\n",
       "      <td>B</td>\n",
       "      <td>35000</td>\n",
       "      <td>10.99</td>\n",
       "      <td>1</td>\n",
       "      <td>0.46</td>\n",
       "      <td>N</td>\n",
       "      <td>28</td>\n",
       "    </tr>\n",
       "    <tr>\n",
       "      <th>32579</th>\n",
       "      <td>56</td>\n",
       "      <td>150000</td>\n",
       "      <td>MORTGAGE</td>\n",
       "      <td>5.0</td>\n",
       "      <td>PERSONAL</td>\n",
       "      <td>B</td>\n",
       "      <td>15000</td>\n",
       "      <td>11.48</td>\n",
       "      <td>0</td>\n",
       "      <td>0.10</td>\n",
       "      <td>N</td>\n",
       "      <td>26</td>\n",
       "    </tr>\n",
       "    <tr>\n",
       "      <th>32580</th>\n",
       "      <td>66</td>\n",
       "      <td>42000</td>\n",
       "      <td>RENT</td>\n",
       "      <td>2.0</td>\n",
       "      <td>MEDICAL</td>\n",
       "      <td>B</td>\n",
       "      <td>6475</td>\n",
       "      <td>9.99</td>\n",
       "      <td>0</td>\n",
       "      <td>0.15</td>\n",
       "      <td>N</td>\n",
       "      <td>30</td>\n",
       "    </tr>\n",
       "  </tbody>\n",
       "</table>\n",
       "<p>31674 rows × 12 columns</p>\n",
       "</div>"
      ],
      "text/plain": [
       "       person_age  person_income person_home_ownership  person_emp_length  \\\n",
       "1              21           9600                   OWN                5.0   \n",
       "2              25           9600              MORTGAGE                1.0   \n",
       "3              23          65500                  RENT                4.0   \n",
       "4              24          54400                  RENT                8.0   \n",
       "5              21           9900                   OWN                2.0   \n",
       "...           ...            ...                   ...                ...   \n",
       "32576          57          53000              MORTGAGE                1.0   \n",
       "32577          54         120000              MORTGAGE                4.0   \n",
       "32578          65          76000                  RENT                3.0   \n",
       "32579          56         150000              MORTGAGE                5.0   \n",
       "32580          66          42000                  RENT                2.0   \n",
       "\n",
       "           loan_intent loan_grade  loan_amnt  loan_int_rate  loan_status  \\\n",
       "1            EDUCATION          B       1000          11.14            0   \n",
       "2              MEDICAL          C       5500          12.87            1   \n",
       "3              MEDICAL          C      35000          15.23            1   \n",
       "4              MEDICAL          C      35000          14.27            1   \n",
       "5              VENTURE          A       2500           7.14            1   \n",
       "...                ...        ...        ...            ...          ...   \n",
       "32576         PERSONAL          C       5800          13.16            0   \n",
       "32577         PERSONAL          A      17625           7.49            0   \n",
       "32578  HOMEIMPROVEMENT          B      35000          10.99            1   \n",
       "32579         PERSONAL          B      15000          11.48            0   \n",
       "32580          MEDICAL          B       6475           9.99            0   \n",
       "\n",
       "       loan_percent_income cb_person_default_on_file  \\\n",
       "1                     0.10                         N   \n",
       "2                     0.57                         N   \n",
       "3                     0.53                         N   \n",
       "4                     0.55                         Y   \n",
       "5                     0.25                         N   \n",
       "...                    ...                       ...   \n",
       "32576                 0.11                         N   \n",
       "32577                 0.15                         N   \n",
       "32578                 0.46                         N   \n",
       "32579                 0.10                         N   \n",
       "32580                 0.15                         N   \n",
       "\n",
       "       cb_person_cred_hist_length  \n",
       "1                               2  \n",
       "2                               3  \n",
       "3                               2  \n",
       "4                               4  \n",
       "5                               2  \n",
       "...                           ...  \n",
       "32576                          30  \n",
       "32577                          19  \n",
       "32578                          28  \n",
       "32579                          26  \n",
       "32580                          30  \n",
       "\n",
       "[31674 rows x 12 columns]"
      ]
     },
     "execution_count": 11,
     "metadata": {},
     "output_type": "execute_result"
    }
   ],
   "source": [
    "original_df_no_otl = original_df.loc[(original_df['person_age'] <= 75) & (original_df['person_emp_length'] < 123)]\n",
    "original_df_no_otl"
   ]
  },
  {
   "cell_type": "code",
   "execution_count": 12,
   "id": "a84ae412-b2a3-4305-b4c5-eac7520f7b7a",
   "metadata": {
    "tags": []
   },
   "outputs": [
    {
     "data": {
      "text/html": [
       "<div>\n",
       "<style scoped>\n",
       "    .dataframe tbody tr th:only-of-type {\n",
       "        vertical-align: middle;\n",
       "    }\n",
       "\n",
       "    .dataframe tbody tr th {\n",
       "        vertical-align: top;\n",
       "    }\n",
       "\n",
       "    .dataframe thead th {\n",
       "        text-align: right;\n",
       "    }\n",
       "</style>\n",
       "<table border=\"1\" class=\"dataframe\">\n",
       "  <thead>\n",
       "    <tr style=\"text-align: right;\">\n",
       "      <th></th>\n",
       "      <th>person_age</th>\n",
       "      <th>person_income</th>\n",
       "      <th>person_emp_length</th>\n",
       "      <th>loan_amnt</th>\n",
       "      <th>loan_int_rate</th>\n",
       "      <th>loan_status</th>\n",
       "      <th>loan_percent_income</th>\n",
       "      <th>cb_person_cred_hist_length</th>\n",
       "    </tr>\n",
       "  </thead>\n",
       "  <tbody>\n",
       "    <tr>\n",
       "      <th>count</th>\n",
       "      <td>31674.000000</td>\n",
       "      <td>3.167400e+04</td>\n",
       "      <td>31674.000000</td>\n",
       "      <td>31674.000000</td>\n",
       "      <td>28628.000000</td>\n",
       "      <td>31674.000000</td>\n",
       "      <td>31674.000000</td>\n",
       "      <td>31674.000000</td>\n",
       "    </tr>\n",
       "    <tr>\n",
       "      <th>mean</th>\n",
       "      <td>27.722043</td>\n",
       "      <td>6.649094e+04</td>\n",
       "      <td>4.780482</td>\n",
       "      <td>9660.183431</td>\n",
       "      <td>11.039998</td>\n",
       "      <td>0.215476</td>\n",
       "      <td>0.169613</td>\n",
       "      <td>5.806150</td>\n",
       "    </tr>\n",
       "    <tr>\n",
       "      <th>std</th>\n",
       "      <td>6.175311</td>\n",
       "      <td>5.277205e+04</td>\n",
       "      <td>4.028725</td>\n",
       "      <td>6334.633360</td>\n",
       "      <td>3.229474</td>\n",
       "      <td>0.411159</td>\n",
       "      <td>0.106273</td>\n",
       "      <td>4.052694</td>\n",
       "    </tr>\n",
       "    <tr>\n",
       "      <th>min</th>\n",
       "      <td>20.000000</td>\n",
       "      <td>4.000000e+03</td>\n",
       "      <td>0.000000</td>\n",
       "      <td>500.000000</td>\n",
       "      <td>5.420000</td>\n",
       "      <td>0.000000</td>\n",
       "      <td>0.000000</td>\n",
       "      <td>2.000000</td>\n",
       "    </tr>\n",
       "    <tr>\n",
       "      <th>25%</th>\n",
       "      <td>23.000000</td>\n",
       "      <td>3.935100e+04</td>\n",
       "      <td>2.000000</td>\n",
       "      <td>5000.000000</td>\n",
       "      <td>7.900000</td>\n",
       "      <td>0.000000</td>\n",
       "      <td>0.090000</td>\n",
       "      <td>3.000000</td>\n",
       "    </tr>\n",
       "    <tr>\n",
       "      <th>50%</th>\n",
       "      <td>26.000000</td>\n",
       "      <td>5.600000e+04</td>\n",
       "      <td>4.000000</td>\n",
       "      <td>8000.000000</td>\n",
       "      <td>10.990000</td>\n",
       "      <td>0.000000</td>\n",
       "      <td>0.150000</td>\n",
       "      <td>4.000000</td>\n",
       "    </tr>\n",
       "    <tr>\n",
       "      <th>75%</th>\n",
       "      <td>30.000000</td>\n",
       "      <td>8.000000e+04</td>\n",
       "      <td>7.000000</td>\n",
       "      <td>12500.000000</td>\n",
       "      <td>13.480000</td>\n",
       "      <td>0.000000</td>\n",
       "      <td>0.230000</td>\n",
       "      <td>8.000000</td>\n",
       "    </tr>\n",
       "    <tr>\n",
       "      <th>max</th>\n",
       "      <td>73.000000</td>\n",
       "      <td>2.039784e+06</td>\n",
       "      <td>38.000000</td>\n",
       "      <td>35000.000000</td>\n",
       "      <td>23.220000</td>\n",
       "      <td>1.000000</td>\n",
       "      <td>0.830000</td>\n",
       "      <td>30.000000</td>\n",
       "    </tr>\n",
       "  </tbody>\n",
       "</table>\n",
       "</div>"
      ],
      "text/plain": [
       "         person_age  person_income  person_emp_length     loan_amnt  \\\n",
       "count  31674.000000   3.167400e+04       31674.000000  31674.000000   \n",
       "mean      27.722043   6.649094e+04           4.780482   9660.183431   \n",
       "std        6.175311   5.277205e+04           4.028725   6334.633360   \n",
       "min       20.000000   4.000000e+03           0.000000    500.000000   \n",
       "25%       23.000000   3.935100e+04           2.000000   5000.000000   \n",
       "50%       26.000000   5.600000e+04           4.000000   8000.000000   \n",
       "75%       30.000000   8.000000e+04           7.000000  12500.000000   \n",
       "max       73.000000   2.039784e+06          38.000000  35000.000000   \n",
       "\n",
       "       loan_int_rate   loan_status  loan_percent_income  \\\n",
       "count   28628.000000  31674.000000         31674.000000   \n",
       "mean       11.039998      0.215476             0.169613   \n",
       "std         3.229474      0.411159             0.106273   \n",
       "min         5.420000      0.000000             0.000000   \n",
       "25%         7.900000      0.000000             0.090000   \n",
       "50%        10.990000      0.000000             0.150000   \n",
       "75%        13.480000      0.000000             0.230000   \n",
       "max        23.220000      1.000000             0.830000   \n",
       "\n",
       "       cb_person_cred_hist_length  \n",
       "count                31674.000000  \n",
       "mean                     5.806150  \n",
       "std                      4.052694  \n",
       "min                      2.000000  \n",
       "25%                      3.000000  \n",
       "50%                      4.000000  \n",
       "75%                      8.000000  \n",
       "max                     30.000000  "
      ]
     },
     "execution_count": 12,
     "metadata": {},
     "output_type": "execute_result"
    }
   ],
   "source": [
    "original_df_no_otl.describe()"
   ]
  },
  {
   "cell_type": "markdown",
   "id": "789c34c0-985a-45d9-bb60-e05cb65443d1",
   "metadata": {},
   "source": [
    "We have sucessfullly removed all outliers. Let's now see the distributions:"
   ]
  },
  {
   "cell_type": "code",
   "execution_count": 13,
   "id": "495ae737-e2f2-4d33-8764-6420c76cfee5",
   "metadata": {
    "tags": []
   },
   "outputs": [
    {
     "data": {
      "text/plain": [
       "<Axes: >"
      ]
     },
     "execution_count": 13,
     "metadata": {},
     "output_type": "execute_result"
    },
    {
     "data": {
      "image/png": "[encoded data removed]",
      "text/plain": [
       "<Figure size 640x480 with 1 Axes>"
      ]
     },
     "metadata": {},
     "output_type": "display_data"
    }
   ],
   "source": [
    "original_df_no_otl['person_age'].plot(kind='box')"
   ]
  },
  {
   "cell_type": "code",
   "execution_count": 14,
   "id": "638a7617-eb8e-42c7-8d74-89fcfb2ec6aa",
   "metadata": {
    "tags": []
   },
   "outputs": [
    {
     "data": {
      "text/plain": [
       "<Axes: >"
      ]
     },
     "execution_count": 14,
     "metadata": {},
     "output_type": "execute_result"
    },
    {
     "data": {
      "image/png": "[encoded data removed]",
      "text/plain": [
       "<Figure size 640x480 with 1 Axes>"
      ]
     },
     "metadata": {},
     "output_type": "display_data"
    }
   ],
   "source": [
    "original_df_no_otl['person_emp_length'].plot(kind='box')"
   ]
  },
  {
   "cell_type": "markdown",
   "id": "07b74507-24e8-41de-8b90-98d4732d4df9",
   "metadata": {},
   "source": [
    "<h3>Observe and impute NA values</h3>"
   ]
  },
  {
   "cell_type": "markdown",
   "id": "4ab046bb-85f6-4d9f-9998-0b31374dbfbc",
   "metadata": {},
   "source": [
    "Due to the presence of outliers in \"person_emp_length\", we'll need to utilise \"medians\" as our imputation values, as for \"loan_int_rate\", let's observe the distribution."
   ]
  },
  {
   "cell_type": "code",
   "execution_count": 15,
   "id": "cc647b11-623c-41ad-b35c-ea2473b01cf9",
   "metadata": {
    "tags": []
   },
   "outputs": [
    {
     "data": {
      "text/plain": [
       "<Axes: >"
      ]
     },
     "execution_count": 15,
     "metadata": {},
     "output_type": "execute_result"
    },
    {
     "data": {
      "image/png": "[encoded data removed]",
      "text/plain": [
       "<Figure size 640x480 with 1 Axes>"
      ]
     },
     "metadata": {},
     "output_type": "display_data"
    }
   ],
   "source": [
    "original_df_no_otl['loan_int_rate'].plot(kind='box')"
   ]
  },
  {
   "cell_type": "markdown",
   "id": "7d830449-d9b2-49d1-b10e-2b41993bb328",
   "metadata": {},
   "source": [
    "We can conclude that both features need to utilise \"medians\" as the imputation value"
   ]
  },
  {
   "cell_type": "code",
   "execution_count": 16,
   "id": "cbec549f-0282-49f6-be23-2c9940c00d43",
   "metadata": {
    "tags": []
   },
   "outputs": [
    {
     "name": "stderr",
     "output_type": "stream",
     "text": [
      "C:\\Users\\jaspe\\AppData\\Local\\Temp\\ipykernel_11300\\3943407445.py:1: SettingWithCopyWarning: \n",
      "A value is trying to be set on a copy of a slice from a DataFrame\n",
      "\n",
      "See the caveats in the documentation: https://pandas.pydata.org/pandas-docs/stable/user_guide/indexing.html#returning-a-view-versus-a-copy\n",
      "  original_df_no_otl['person_emp_length'].fillna(original_df_no_otl['person_emp_length'].median(), inplace=True)\n"
     ]
    }
   ],
   "source": [
    "original_df_no_otl['person_emp_length'].fillna(original_df_no_otl['person_emp_length'].median(), inplace=True)"
   ]
  },
  {
   "cell_type": "code",
   "execution_count": 17,
   "id": "240cfba9-dfd5-4ddd-abe2-dc4b2e242e6a",
   "metadata": {
    "tags": []
   },
   "outputs": [
    {
     "name": "stderr",
     "output_type": "stream",
     "text": [
      "C:\\Users\\jaspe\\AppData\\Local\\Temp\\ipykernel_11300\\2912135964.py:1: SettingWithCopyWarning: \n",
      "A value is trying to be set on a copy of a slice from a DataFrame\n",
      "\n",
      "See the caveats in the documentation: https://pandas.pydata.org/pandas-docs/stable/user_guide/indexing.html#returning-a-view-versus-a-copy\n",
      "  original_df_no_otl['loan_int_rate'].fillna(original_df_no_otl['loan_int_rate'].median(), inplace=True)\n"
     ]
    }
   ],
   "source": [
    "original_df_no_otl['loan_int_rate'].fillna(original_df_no_otl['loan_int_rate'].median(), inplace=True)"
   ]
  },
  {
   "cell_type": "code",
   "execution_count": 18,
   "id": "4a5bf834-ef97-4a76-861d-7084e2c212d7",
   "metadata": {
    "tags": []
   },
   "outputs": [
    {
     "data": {
      "text/plain": [
       "person_age                    0\n",
       "person_income                 0\n",
       "person_home_ownership         0\n",
       "person_emp_length             0\n",
       "loan_intent                   0\n",
       "loan_grade                    0\n",
       "loan_amnt                     0\n",
       "loan_int_rate                 0\n",
       "loan_status                   0\n",
       "loan_percent_income           0\n",
       "cb_person_default_on_file     0\n",
       "cb_person_cred_hist_length    0\n",
       "dtype: int64"
      ]
     },
     "execution_count": 18,
     "metadata": {},
     "output_type": "execute_result"
    }
   ],
   "source": [
    "original_df_no_otl.isna().sum()"
   ]
  },
  {
   "cell_type": "code",
   "execution_count": 19,
   "id": "9621e58e-6998-42db-9099-2809b3e6c20c",
   "metadata": {
    "tags": []
   },
   "outputs": [
    {
     "data": {
      "text/plain": [
       "10.99"
      ]
     },
     "execution_count": 19,
     "metadata": {},
     "output_type": "execute_result"
    }
   ],
   "source": [
    "original_df_no_otl['loan_int_rate'].median()"
   ]
  },
  {
   "cell_type": "code",
   "execution_count": 20,
   "id": "4d8234fd-43b1-424e-b4ce-806ffe922f9a",
   "metadata": {
    "tags": []
   },
   "outputs": [
    {
     "data": {
      "text/plain": [
       "4.0"
      ]
     },
     "execution_count": 20,
     "metadata": {},
     "output_type": "execute_result"
    }
   ],
   "source": [
    "original_df_no_otl['person_emp_length'].median()"
   ]
  },
  {
   "cell_type": "markdown",
   "id": "52d10e97-f26c-4ce2-8edd-dfa6c3173684",
   "metadata": {},
   "source": [
    "After imputing our values we do not have any null values present in our data"
   ]
  },
  {
   "cell_type": "code",
   "execution_count": 21,
   "id": "f9e9082f-87b1-40e6-aeac-91127e0f83ec",
   "metadata": {
    "tags": []
   },
   "outputs": [
    {
     "data": {
      "text/html": [
       "<div>\n",
       "<style scoped>\n",
       "    .dataframe tbody tr th:only-of-type {\n",
       "        vertical-align: middle;\n",
       "    }\n",
       "\n",
       "    .dataframe tbody tr th {\n",
       "        vertical-align: top;\n",
       "    }\n",
       "\n",
       "    .dataframe thead th {\n",
       "        text-align: right;\n",
       "    }\n",
       "</style>\n",
       "<table border=\"1\" class=\"dataframe\">\n",
       "  <thead>\n",
       "    <tr style=\"text-align: right;\">\n",
       "      <th></th>\n",
       "      <th>person_age</th>\n",
       "      <th>person_income</th>\n",
       "      <th>person_emp_length</th>\n",
       "      <th>loan_amnt</th>\n",
       "      <th>loan_int_rate</th>\n",
       "      <th>loan_status</th>\n",
       "      <th>loan_percent_income</th>\n",
       "      <th>cb_person_cred_hist_length</th>\n",
       "    </tr>\n",
       "  </thead>\n",
       "  <tbody>\n",
       "    <tr>\n",
       "      <th>count</th>\n",
       "      <td>31674.000000</td>\n",
       "      <td>3.167400e+04</td>\n",
       "      <td>31674.000000</td>\n",
       "      <td>31674.000000</td>\n",
       "      <td>31674.000000</td>\n",
       "      <td>31674.000000</td>\n",
       "      <td>31674.000000</td>\n",
       "      <td>31674.000000</td>\n",
       "    </tr>\n",
       "    <tr>\n",
       "      <th>mean</th>\n",
       "      <td>27.722043</td>\n",
       "      <td>6.649094e+04</td>\n",
       "      <td>4.780482</td>\n",
       "      <td>9660.183431</td>\n",
       "      <td>11.035190</td>\n",
       "      <td>0.215476</td>\n",
       "      <td>0.169613</td>\n",
       "      <td>5.806150</td>\n",
       "    </tr>\n",
       "    <tr>\n",
       "      <th>std</th>\n",
       "      <td>6.175311</td>\n",
       "      <td>5.277205e+04</td>\n",
       "      <td>4.028725</td>\n",
       "      <td>6334.633360</td>\n",
       "      <td>3.070295</td>\n",
       "      <td>0.411159</td>\n",
       "      <td>0.106273</td>\n",
       "      <td>4.052694</td>\n",
       "    </tr>\n",
       "    <tr>\n",
       "      <th>min</th>\n",
       "      <td>20.000000</td>\n",
       "      <td>4.000000e+03</td>\n",
       "      <td>0.000000</td>\n",
       "      <td>500.000000</td>\n",
       "      <td>5.420000</td>\n",
       "      <td>0.000000</td>\n",
       "      <td>0.000000</td>\n",
       "      <td>2.000000</td>\n",
       "    </tr>\n",
       "    <tr>\n",
       "      <th>25%</th>\n",
       "      <td>23.000000</td>\n",
       "      <td>3.935100e+04</td>\n",
       "      <td>2.000000</td>\n",
       "      <td>5000.000000</td>\n",
       "      <td>8.490000</td>\n",
       "      <td>0.000000</td>\n",
       "      <td>0.090000</td>\n",
       "      <td>3.000000</td>\n",
       "    </tr>\n",
       "    <tr>\n",
       "      <th>50%</th>\n",
       "      <td>26.000000</td>\n",
       "      <td>5.600000e+04</td>\n",
       "      <td>4.000000</td>\n",
       "      <td>8000.000000</td>\n",
       "      <td>10.990000</td>\n",
       "      <td>0.000000</td>\n",
       "      <td>0.150000</td>\n",
       "      <td>4.000000</td>\n",
       "    </tr>\n",
       "    <tr>\n",
       "      <th>75%</th>\n",
       "      <td>30.000000</td>\n",
       "      <td>8.000000e+04</td>\n",
       "      <td>7.000000</td>\n",
       "      <td>12500.000000</td>\n",
       "      <td>13.160000</td>\n",
       "      <td>0.000000</td>\n",
       "      <td>0.230000</td>\n",
       "      <td>8.000000</td>\n",
       "    </tr>\n",
       "    <tr>\n",
       "      <th>max</th>\n",
       "      <td>73.000000</td>\n",
       "      <td>2.039784e+06</td>\n",
       "      <td>38.000000</td>\n",
       "      <td>35000.000000</td>\n",
       "      <td>23.220000</td>\n",
       "      <td>1.000000</td>\n",
       "      <td>0.830000</td>\n",
       "      <td>30.000000</td>\n",
       "    </tr>\n",
       "  </tbody>\n",
       "</table>\n",
       "</div>"
      ],
      "text/plain": [
       "         person_age  person_income  person_emp_length     loan_amnt  \\\n",
       "count  31674.000000   3.167400e+04       31674.000000  31674.000000   \n",
       "mean      27.722043   6.649094e+04           4.780482   9660.183431   \n",
       "std        6.175311   5.277205e+04           4.028725   6334.633360   \n",
       "min       20.000000   4.000000e+03           0.000000    500.000000   \n",
       "25%       23.000000   3.935100e+04           2.000000   5000.000000   \n",
       "50%       26.000000   5.600000e+04           4.000000   8000.000000   \n",
       "75%       30.000000   8.000000e+04           7.000000  12500.000000   \n",
       "max       73.000000   2.039784e+06          38.000000  35000.000000   \n",
       "\n",
       "       loan_int_rate   loan_status  loan_percent_income  \\\n",
       "count   31674.000000  31674.000000         31674.000000   \n",
       "mean       11.035190      0.215476             0.169613   \n",
       "std         3.070295      0.411159             0.106273   \n",
       "min         5.420000      0.000000             0.000000   \n",
       "25%         8.490000      0.000000             0.090000   \n",
       "50%        10.990000      0.000000             0.150000   \n",
       "75%        13.160000      0.000000             0.230000   \n",
       "max        23.220000      1.000000             0.830000   \n",
       "\n",
       "       cb_person_cred_hist_length  \n",
       "count                31674.000000  \n",
       "mean                     5.806150  \n",
       "std                      4.052694  \n",
       "min                      2.000000  \n",
       "25%                      3.000000  \n",
       "50%                      4.000000  \n",
       "75%                      8.000000  \n",
       "max                     30.000000  "
      ]
     },
     "execution_count": 21,
     "metadata": {},
     "output_type": "execute_result"
    }
   ],
   "source": [
    "original_df_no_otl.describe()"
   ]
  },
  {
   "cell_type": "markdown",
   "id": "e9f4e0b5-c2fe-444e-99d9-323550c94f32",
   "metadata": {
    "tags": []
   },
   "source": [
    "Now that we've completed cleaning our data, let's now conduct some EDA on our dataset.\n",
    "\n",
    "A few things I'd like to look at:\n",
    "\n",
    "- What is the relative distirbution between age and income\n",
    "- What is the relative distribution between age and employment length\n",
    "- What is the relative distribtion between age and loan amounts\n",
    "- What is the relative distribtion between age and credit history\n",
    "- Is there a correlation between any of the variables above\n",
    "- Analyse age groups based off:\n",
    "    - Loan intent\n",
    "    - Loan Grade\n",
    "    - Person Home Ownership\n",
    "\n",
    "<b>NOTE: To simplify age groups, i'll put age groups into buckets</b>"
   ]
  },
  {
   "cell_type": "code",
   "execution_count": 22,
   "id": "1da41cd1-ac62-4b29-aeaa-93ad559919df",
   "metadata": {
    "tags": []
   },
   "outputs": [],
   "source": [
    "#reset index\n",
    "original_df_no_otl.reset_index(inplace=True)"
   ]
  },
  {
   "cell_type": "code",
   "execution_count": 23,
   "id": "314ea0e0-3c23-4d08-ae22-c388412f6abd",
   "metadata": {
    "tags": []
   },
   "outputs": [],
   "source": [
    "#create age group array\n",
    "age_group = []\n",
    "\n",
    "#loop through the list of ages and categorise them into the age buckets\n",
    "for i in range(len(original_df_no_otl['person_age'])):\n",
    "    \n",
    "    if original_df_no_otl['person_age'][i] <= 30:\n",
    "        age_group.append('< 30 years old')\n",
    "    elif 30 < original_df_no_otl['person_age'][i] <= 40:\n",
    "        age_group.append('30 - 40 years old')\n",
    "    elif 40 < original_df_no_otl['person_age'][i] <= 50:\n",
    "        age_group.append('40 - 50 years old')\n",
    "    elif 50 < original_df_no_otl['person_age'][i] <= 60:\n",
    "        age_group.append('50 - 60 years old')\n",
    "    elif original_df_no_otl['person_age'][i] > 60:\n",
    "        age_group.append('> 60 years old')\n",
    "        "
   ]
  },
  {
   "cell_type": "code",
   "execution_count": 24,
   "id": "85349964-39c6-48eb-869f-df12711e9b84",
   "metadata": {
    "tags": []
   },
   "outputs": [
    {
     "name": "stderr",
     "output_type": "stream",
     "text": [
      "C:\\Users\\jaspe\\AppData\\Local\\Temp\\ipykernel_11300\\833029811.py:1: SettingWithCopyWarning: \n",
      "A value is trying to be set on a copy of a slice from a DataFrame.\n",
      "Try using .loc[row_indexer,col_indexer] = value instead\n",
      "\n",
      "See the caveats in the documentation: https://pandas.pydata.org/pandas-docs/stable/user_guide/indexing.html#returning-a-view-versus-a-copy\n",
      "  original_df_no_otl['Age Group'] = age_group\n"
     ]
    }
   ],
   "source": [
    "original_df_no_otl['Age Group'] = age_group"
   ]
  },
  {
   "cell_type": "code",
   "execution_count": 25,
   "id": "99bcb7c8-4401-4a66-b8b3-e417ed343483",
   "metadata": {
    "tags": []
   },
   "outputs": [
    {
     "data": {
      "text/html": [
       "<div>\n",
       "<style scoped>\n",
       "    .dataframe tbody tr th:only-of-type {\n",
       "        vertical-align: middle;\n",
       "    }\n",
       "\n",
       "    .dataframe tbody tr th {\n",
       "        vertical-align: top;\n",
       "    }\n",
       "\n",
       "    .dataframe thead th {\n",
       "        text-align: right;\n",
       "    }\n",
       "</style>\n",
       "<table border=\"1\" class=\"dataframe\">\n",
       "  <thead>\n",
       "    <tr style=\"text-align: right;\">\n",
       "      <th></th>\n",
       "      <th>index</th>\n",
       "      <th>person_age</th>\n",
       "      <th>person_income</th>\n",
       "      <th>person_home_ownership</th>\n",
       "      <th>person_emp_length</th>\n",
       "      <th>loan_intent</th>\n",
       "      <th>loan_grade</th>\n",
       "      <th>loan_amnt</th>\n",
       "      <th>loan_int_rate</th>\n",
       "      <th>loan_status</th>\n",
       "      <th>loan_percent_income</th>\n",
       "      <th>cb_person_default_on_file</th>\n",
       "      <th>cb_person_cred_hist_length</th>\n",
       "      <th>Age Group</th>\n",
       "    </tr>\n",
       "  </thead>\n",
       "  <tbody>\n",
       "    <tr>\n",
       "      <th>0</th>\n",
       "      <td>1</td>\n",
       "      <td>21</td>\n",
       "      <td>9600</td>\n",
       "      <td>OWN</td>\n",
       "      <td>5.0</td>\n",
       "      <td>EDUCATION</td>\n",
       "      <td>B</td>\n",
       "      <td>1000</td>\n",
       "      <td>11.14</td>\n",
       "      <td>0</td>\n",
       "      <td>0.10</td>\n",
       "      <td>N</td>\n",
       "      <td>2</td>\n",
       "      <td>&lt; 30 years old</td>\n",
       "    </tr>\n",
       "    <tr>\n",
       "      <th>1</th>\n",
       "      <td>2</td>\n",
       "      <td>25</td>\n",
       "      <td>9600</td>\n",
       "      <td>MORTGAGE</td>\n",
       "      <td>1.0</td>\n",
       "      <td>MEDICAL</td>\n",
       "      <td>C</td>\n",
       "      <td>5500</td>\n",
       "      <td>12.87</td>\n",
       "      <td>1</td>\n",
       "      <td>0.57</td>\n",
       "      <td>N</td>\n",
       "      <td>3</td>\n",
       "      <td>&lt; 30 years old</td>\n",
       "    </tr>\n",
       "    <tr>\n",
       "      <th>2</th>\n",
       "      <td>3</td>\n",
       "      <td>23</td>\n",
       "      <td>65500</td>\n",
       "      <td>RENT</td>\n",
       "      <td>4.0</td>\n",
       "      <td>MEDICAL</td>\n",
       "      <td>C</td>\n",
       "      <td>35000</td>\n",
       "      <td>15.23</td>\n",
       "      <td>1</td>\n",
       "      <td>0.53</td>\n",
       "      <td>N</td>\n",
       "      <td>2</td>\n",
       "      <td>&lt; 30 years old</td>\n",
       "    </tr>\n",
       "    <tr>\n",
       "      <th>3</th>\n",
       "      <td>4</td>\n",
       "      <td>24</td>\n",
       "      <td>54400</td>\n",
       "      <td>RENT</td>\n",
       "      <td>8.0</td>\n",
       "      <td>MEDICAL</td>\n",
       "      <td>C</td>\n",
       "      <td>35000</td>\n",
       "      <td>14.27</td>\n",
       "      <td>1</td>\n",
       "      <td>0.55</td>\n",
       "      <td>Y</td>\n",
       "      <td>4</td>\n",
       "      <td>&lt; 30 years old</td>\n",
       "    </tr>\n",
       "    <tr>\n",
       "      <th>4</th>\n",
       "      <td>5</td>\n",
       "      <td>21</td>\n",
       "      <td>9900</td>\n",
       "      <td>OWN</td>\n",
       "      <td>2.0</td>\n",
       "      <td>VENTURE</td>\n",
       "      <td>A</td>\n",
       "      <td>2500</td>\n",
       "      <td>7.14</td>\n",
       "      <td>1</td>\n",
       "      <td>0.25</td>\n",
       "      <td>N</td>\n",
       "      <td>2</td>\n",
       "      <td>&lt; 30 years old</td>\n",
       "    </tr>\n",
       "    <tr>\n",
       "      <th>...</th>\n",
       "      <td>...</td>\n",
       "      <td>...</td>\n",
       "      <td>...</td>\n",
       "      <td>...</td>\n",
       "      <td>...</td>\n",
       "      <td>...</td>\n",
       "      <td>...</td>\n",
       "      <td>...</td>\n",
       "      <td>...</td>\n",
       "      <td>...</td>\n",
       "      <td>...</td>\n",
       "      <td>...</td>\n",
       "      <td>...</td>\n",
       "      <td>...</td>\n",
       "    </tr>\n",
       "    <tr>\n",
       "      <th>31669</th>\n",
       "      <td>32576</td>\n",
       "      <td>57</td>\n",
       "      <td>53000</td>\n",
       "      <td>MORTGAGE</td>\n",
       "      <td>1.0</td>\n",
       "      <td>PERSONAL</td>\n",
       "      <td>C</td>\n",
       "      <td>5800</td>\n",
       "      <td>13.16</td>\n",
       "      <td>0</td>\n",
       "      <td>0.11</td>\n",
       "      <td>N</td>\n",
       "      <td>30</td>\n",
       "      <td>50 - 60 years old</td>\n",
       "    </tr>\n",
       "    <tr>\n",
       "      <th>31670</th>\n",
       "      <td>32577</td>\n",
       "      <td>54</td>\n",
       "      <td>120000</td>\n",
       "      <td>MORTGAGE</td>\n",
       "      <td>4.0</td>\n",
       "      <td>PERSONAL</td>\n",
       "      <td>A</td>\n",
       "      <td>17625</td>\n",
       "      <td>7.49</td>\n",
       "      <td>0</td>\n",
       "      <td>0.15</td>\n",
       "      <td>N</td>\n",
       "      <td>19</td>\n",
       "      <td>50 - 60 years old</td>\n",
       "    </tr>\n",
       "    <tr>\n",
       "      <th>31671</th>\n",
       "      <td>32578</td>\n",
       "      <td>65</td>\n",
       "      <td>76000</td>\n",
       "      <td>RENT</td>\n",
       "      <td>3.0</td>\n",
       "      <td>HOMEIMPROVEMENT</td>\n",
       "      <td>B</td>\n",
       "      <td>35000</td>\n",
       "      <td>10.99</td>\n",
       "      <td>1</td>\n",
       "      <td>0.46</td>\n",
       "      <td>N</td>\n",
       "      <td>28</td>\n",
       "      <td>&gt; 60 years old</td>\n",
       "    </tr>\n",
       "    <tr>\n",
       "      <th>31672</th>\n",
       "      <td>32579</td>\n",
       "      <td>56</td>\n",
       "      <td>150000</td>\n",
       "      <td>MORTGAGE</td>\n",
       "      <td>5.0</td>\n",
       "      <td>PERSONAL</td>\n",
       "      <td>B</td>\n",
       "      <td>15000</td>\n",
       "      <td>11.48</td>\n",
       "      <td>0</td>\n",
       "      <td>0.10</td>\n",
       "      <td>N</td>\n",
       "      <td>26</td>\n",
       "      <td>50 - 60 years old</td>\n",
       "    </tr>\n",
       "    <tr>\n",
       "      <th>31673</th>\n",
       "      <td>32580</td>\n",
       "      <td>66</td>\n",
       "      <td>42000</td>\n",
       "      <td>RENT</td>\n",
       "      <td>2.0</td>\n",
       "      <td>MEDICAL</td>\n",
       "      <td>B</td>\n",
       "      <td>6475</td>\n",
       "      <td>9.99</td>\n",
       "      <td>0</td>\n",
       "      <td>0.15</td>\n",
       "      <td>N</td>\n",
       "      <td>30</td>\n",
       "      <td>&gt; 60 years old</td>\n",
       "    </tr>\n",
       "  </tbody>\n",
       "</table>\n",
       "<p>31674 rows × 14 columns</p>\n",
       "</div>"
      ],
      "text/plain": [
       "       index  person_age  person_income person_home_ownership  \\\n",
       "0          1          21           9600                   OWN   \n",
       "1          2          25           9600              MORTGAGE   \n",
       "2          3          23          65500                  RENT   \n",
       "3          4          24          54400                  RENT   \n",
       "4          5          21           9900                   OWN   \n",
       "...      ...         ...            ...                   ...   \n",
       "31669  32576          57          53000              MORTGAGE   \n",
       "31670  32577          54         120000              MORTGAGE   \n",
       "31671  32578          65          76000                  RENT   \n",
       "31672  32579          56         150000              MORTGAGE   \n",
       "31673  32580          66          42000                  RENT   \n",
       "\n",
       "       person_emp_length      loan_intent loan_grade  loan_amnt  \\\n",
       "0                    5.0        EDUCATION          B       1000   \n",
       "1                    1.0          MEDICAL          C       5500   \n",
       "2                    4.0          MEDICAL          C      35000   \n",
       "3                    8.0          MEDICAL          C      35000   \n",
       "4                    2.0          VENTURE          A       2500   \n",
       "...                  ...              ...        ...        ...   \n",
       "31669                1.0         PERSONAL          C       5800   \n",
       "31670                4.0         PERSONAL          A      17625   \n",
       "31671                3.0  HOMEIMPROVEMENT          B      35000   \n",
       "31672                5.0         PERSONAL          B      15000   \n",
       "31673                2.0          MEDICAL          B       6475   \n",
       "\n",
       "       loan_int_rate  loan_status  loan_percent_income  \\\n",
       "0              11.14            0                 0.10   \n",
       "1              12.87            1                 0.57   \n",
       "2              15.23            1                 0.53   \n",
       "3              14.27            1                 0.55   \n",
       "4               7.14            1                 0.25   \n",
       "...              ...          ...                  ...   \n",
       "31669          13.16            0                 0.11   \n",
       "31670           7.49            0                 0.15   \n",
       "31671          10.99            1                 0.46   \n",
       "31672          11.48            0                 0.10   \n",
       "31673           9.99            0                 0.15   \n",
       "\n",
       "      cb_person_default_on_file  cb_person_cred_hist_length          Age Group  \n",
       "0                             N                           2     < 30 years old  \n",
       "1                             N                           3     < 30 years old  \n",
       "2                             N                           2     < 30 years old  \n",
       "3                             Y                           4     < 30 years old  \n",
       "4                             N                           2     < 30 years old  \n",
       "...                         ...                         ...                ...  \n",
       "31669                         N                          30  50 - 60 years old  \n",
       "31670                         N                          19  50 - 60 years old  \n",
       "31671                         N                          28     > 60 years old  \n",
       "31672                         N                          26  50 - 60 years old  \n",
       "31673                         N                          30     > 60 years old  \n",
       "\n",
       "[31674 rows x 14 columns]"
      ]
     },
     "execution_count": 25,
     "metadata": {},
     "output_type": "execute_result"
    }
   ],
   "source": [
    "#View dataset after age group addition\n",
    "original_df_no_otl"
   ]
  },
  {
   "cell_type": "code",
   "execution_count": 26,
   "id": "aa86b44f-40ed-4ca7-b7ce-df14bc02f618",
   "metadata": {
    "tags": []
   },
   "outputs": [
    {
     "data": {
      "text/plain": [
       "<Axes: xlabel='Age Group'>"
      ]
     },
     "execution_count": 26,
     "metadata": {},
     "output_type": "execute_result"
    },
    {
     "data": {
      "image/png": "[encoded data removed]",
      "text/plain": [
       "<Figure size 640x480 with 1 Axes>"
      ]
     },
     "metadata": {},
     "output_type": "display_data"
    }
   ],
   "source": [
    "original_df_no_otl['Age Group'].value_counts().plot(kind='bar')"
   ]
  },
  {
   "cell_type": "markdown",
   "id": "92ef02fd-aaeb-4ab7-ad30-a62b2165591d",
   "metadata": {},
   "source": [
    "After implementing our age groups, we can see that people with ages less than 30 years old are the most common to ask for loans.\n",
    "\n",
    "This makes sense considering majority are for:\n",
    "- Home buyers\n",
    "- Potential investors\n",
    "- Student loans\n",
    "- Rent\n",
    "- Medical\n",
    "\n",
    "And plenty more\n",
    "\n",
    "With age groups now created, let's continue our EDA"
   ]
  },
  {
   "cell_type": "markdown",
   "id": "15ced952-19b6-4c90-8324-5b5231f5ea52",
   "metadata": {},
   "source": [
    "<h3>What is the relative distribution between age group and income</h3>"
   ]
  },
  {
   "cell_type": "code",
   "execution_count": 27,
   "id": "17c42213-5016-4349-819f-79cb0bee7799",
   "metadata": {
    "tags": []
   },
   "outputs": [
    {
     "data": {
      "text/plain": [
       "<Axes: xlabel='person_income', ylabel='Age Group'>"
      ]
     },
     "execution_count": 27,
     "metadata": {},
     "output_type": "execute_result"
    },
    {
     "data": {
      "image/png": "[encoded data removed]",
      "text/plain": [
       "<Figure size 640x480 with 1 Axes>"
      ]
     },
     "metadata": {},
     "output_type": "display_data"
    }
   ],
   "source": [
    "sns.boxplot(data = original_df_no_otl, y = 'Age Group', x = 'person_income')"
   ]
  },
  {
   "cell_type": "code",
   "execution_count": 28,
   "id": "6f8966d2-51d5-46bb-9043-d23f480c79e8",
   "metadata": {
    "tags": []
   },
   "outputs": [
    {
     "data": {
      "text/plain": [
       "Age Group\n",
       "> 60 years old       103074.525424\n",
       "50 - 60 years old     96108.502326\n",
       "40 - 50 years old     80520.213435\n",
       "30 - 40 years old     74567.119161\n",
       "< 30 years old        63411.000373\n",
       "Name: person_income, dtype: float64"
      ]
     },
     "execution_count": 28,
     "metadata": {},
     "output_type": "execute_result"
    }
   ],
   "source": [
    "#let's group by age and find the relative stats (mean and median income)\n",
    "age_group_income = original_df_no_otl.groupby('Age Group')['person_income'].mean().sort_values(ascending=False)\n",
    "age_group_income"
   ]
  },
  {
   "cell_type": "markdown",
   "id": "6c15030a-bed5-4ad1-80ca-e1ca5d238da5",
   "metadata": {},
   "source": [
    "There seems to be some outliers within each age group.\n",
    "\n",
    "But based off these outliers and the average income we can clearly see that as the age of our loaners increases, so to does their income.\n",
    "\n",
    "We can that those aged 60 and above tend to have the highest income"
   ]
  },
  {
   "cell_type": "markdown",
   "id": "bef174a1-0397-4991-8778-8a464c578e1c",
   "metadata": {},
   "source": [
    "<h3>What is the relative distribution between age group and employment length</h3>"
   ]
  },
  {
   "cell_type": "code",
   "execution_count": 29,
   "id": "6f7e848d-0809-4825-892c-10dc4d01a551",
   "metadata": {
    "tags": []
   },
   "outputs": [
    {
     "data": {
      "text/plain": [
       "<Axes: xlabel='person_emp_length', ylabel='Age Group'>"
      ]
     },
     "execution_count": 29,
     "metadata": {},
     "output_type": "execute_result"
    },
    {
     "data": {
      "image/png": "[encoded data removed]",
      "text/plain": [
       "<Figure size 640x480 with 1 Axes>"
      ]
     },
     "metadata": {},
     "output_type": "display_data"
    }
   ],
   "source": [
    "sns.boxplot(data = original_df_no_otl, y = 'Age Group', x = 'person_emp_length')"
   ]
  },
  {
   "cell_type": "code",
   "execution_count": 30,
   "id": "5d341375-87b8-4d62-8b34-bc79f68d88a6",
   "metadata": {
    "tags": []
   },
   "outputs": [
    {
     "data": {
      "text/plain": [
       "Age Group\n",
       "40 - 50 years old    6.278061\n",
       "30 - 40 years old    5.688903\n",
       "> 60 years old       5.644068\n",
       "50 - 60 years old    5.446512\n",
       "< 30 years old       4.469676\n",
       "Name: person_emp_length, dtype: float64"
      ]
     },
     "execution_count": 30,
     "metadata": {},
     "output_type": "execute_result"
    }
   ],
   "source": [
    "#lets group by age and person employment length\n",
    "age_group_emp = original_df_no_otl.groupby('Age Group')['person_emp_length'].mean().sort_values(ascending=False)\n",
    "age_group_emp"
   ]
  },
  {
   "cell_type": "code",
   "execution_count": 31,
   "id": "38c19bb3-11e0-4c80-b490-770ab3907e86",
   "metadata": {
    "tags": []
   },
   "outputs": [
    {
     "data": {
      "text/plain": [
       "Age Group\n",
       "30 - 40 years old    4.0\n",
       "40 - 50 years old    4.0\n",
       "50 - 60 years old    4.0\n",
       "< 30 years old       4.0\n",
       "> 60 years old       3.0\n",
       "Name: person_emp_length, dtype: float64"
      ]
     },
     "execution_count": 31,
     "metadata": {},
     "output_type": "execute_result"
    }
   ],
   "source": [
    "original_df_no_otl.groupby('Age Group')['person_emp_length'].median()"
   ]
  },
  {
   "cell_type": "markdown",
   "id": "ebf42530-40c7-43c6-9b0f-dd1fe1c7099e",
   "metadata": {},
   "source": [
    "To conclude, we can see that the average employment length of our age groups seem to be the greatest for 40 - 50 year old individuals.\n",
    "\n",
    "We can also that those aged 40 - 50 have longers employment lengths"
   ]
  },
  {
   "cell_type": "markdown",
   "id": "d6cec8ea-cecd-43e8-9a87-b56ce2199c5b",
   "metadata": {},
   "source": [
    "<h3>What is the relative distribtion between age and loan amounts</h3>"
   ]
  },
  {
   "cell_type": "code",
   "execution_count": 32,
   "id": "b8acc258-e242-43f1-9630-1893a7b097c3",
   "metadata": {
    "tags": []
   },
   "outputs": [
    {
     "data": {
      "text/plain": [
       "Age Group\n",
       "> 60 years old       12940.254237\n",
       "40 - 50 years old    10166.411565\n",
       "30 - 40 years old     9947.959351\n",
       "< 30 years old        9556.022261\n",
       "50 - 60 years old     9511.860465\n",
       "Name: loan_amnt, dtype: float64"
      ]
     },
     "execution_count": 32,
     "metadata": {},
     "output_type": "execute_result"
    }
   ],
   "source": [
    "age_group_loan = original_df_no_otl.groupby('Age Group')['loan_amnt'].mean().sort_values(ascending=False)\n",
    "age_group_loan"
   ]
  },
  {
   "cell_type": "markdown",
   "id": "2059316c-823a-4c4f-9fc2-16f069a05e40",
   "metadata": {
    "tags": []
   },
   "source": [
    "<h3>What is the relative distribtion between age and credit history</h3>"
   ]
  },
  {
   "cell_type": "code",
   "execution_count": 33,
   "id": "20853c2b-b606-4e19-883f-fd653063fc98",
   "metadata": {
    "tags": []
   },
   "outputs": [
    {
     "data": {
      "text/plain": [
       "Age Group\n",
       "> 60 years old       24.322034\n",
       "50 - 60 years old    23.734884\n",
       "40 - 50 years old    13.920918\n",
       "30 - 40 years old     9.519259\n",
       "< 30 years old        4.266385\n",
       "Name: cb_person_cred_hist_length, dtype: float64"
      ]
     },
     "execution_count": 33,
     "metadata": {},
     "output_type": "execute_result"
    }
   ],
   "source": [
    "age_group_credit_history = original_df_no_otl.groupby('Age Group')['cb_person_cred_hist_length'].mean().sort_values(ascending=False)\n",
    "age_group_credit_history"
   ]
  },
  {
   "cell_type": "markdown",
   "id": "d848e154-d1ef-4225-a41e-78747407991d",
   "metadata": {},
   "source": [
    "Let's merge these datasets togther"
   ]
  },
  {
   "cell_type": "code",
   "execution_count": 34,
   "id": "787dc572-100d-4b82-9b11-684d79189c47",
   "metadata": {
    "tags": []
   },
   "outputs": [],
   "source": [
    "\n",
    "# Assuming the grouped DataFrames are named as follows:\n",
    "# age_group_emp, age_group_income, age_group_loan, age_group_credit_history\n",
    "\n",
    "# Reset the index of the grouped DataFrames to turn 'Age Group' into a column\n",
    "age_group_emp = age_group_emp.reset_index()\n",
    "age_group_income = age_group_income.reset_index()\n",
    "age_group_loan = age_group_loan.reset_index()\n",
    "age_group_credit_history = age_group_credit_history.reset_index()\n",
    "\n",
    "# Merge the DataFrames on 'Age Group' with custom suffixes to avoid duplicate column names\n",
    "merged_df = pd.merge(age_group_emp, age_group_income, on='Age Group', how='inner', suffixes=('_emp', '_inc'))\n",
    "merged_df = pd.merge(merged_df, age_group_loan, on='Age Group', how='inner', suffixes=('', '_loan'))\n",
    "merged_df = pd.merge(merged_df, age_group_credit_history, on='Age Group', how='inner', suffixes=('', '_cred_hist'))"
   ]
  },
  {
   "cell_type": "code",
   "execution_count": 35,
   "id": "5e2a3122-5988-45e7-a94f-34a3aa6a46cf",
   "metadata": {
    "tags": []
   },
   "outputs": [
    {
     "data": {
      "text/html": [
       "<div>\n",
       "<style scoped>\n",
       "    .dataframe tbody tr th:only-of-type {\n",
       "        vertical-align: middle;\n",
       "    }\n",
       "\n",
       "    .dataframe tbody tr th {\n",
       "        vertical-align: top;\n",
       "    }\n",
       "\n",
       "    .dataframe thead th {\n",
       "        text-align: right;\n",
       "    }\n",
       "</style>\n",
       "<table border=\"1\" class=\"dataframe\">\n",
       "  <thead>\n",
       "    <tr style=\"text-align: right;\">\n",
       "      <th></th>\n",
       "      <th>Age Group</th>\n",
       "      <th>person_emp_length</th>\n",
       "      <th>person_income</th>\n",
       "      <th>loan_amnt</th>\n",
       "      <th>cb_person_cred_hist_length</th>\n",
       "    </tr>\n",
       "  </thead>\n",
       "  <tbody>\n",
       "    <tr>\n",
       "      <th>2</th>\n",
       "      <td>&gt; 60 years old</td>\n",
       "      <td>5.644068</td>\n",
       "      <td>103074.525424</td>\n",
       "      <td>12940.254237</td>\n",
       "      <td>24.322034</td>\n",
       "    </tr>\n",
       "    <tr>\n",
       "      <th>3</th>\n",
       "      <td>50 - 60 years old</td>\n",
       "      <td>5.446512</td>\n",
       "      <td>96108.502326</td>\n",
       "      <td>9511.860465</td>\n",
       "      <td>23.734884</td>\n",
       "    </tr>\n",
       "    <tr>\n",
       "      <th>0</th>\n",
       "      <td>40 - 50 years old</td>\n",
       "      <td>6.278061</td>\n",
       "      <td>80520.213435</td>\n",
       "      <td>10166.411565</td>\n",
       "      <td>13.920918</td>\n",
       "    </tr>\n",
       "    <tr>\n",
       "      <th>1</th>\n",
       "      <td>30 - 40 years old</td>\n",
       "      <td>5.688903</td>\n",
       "      <td>74567.119161</td>\n",
       "      <td>9947.959351</td>\n",
       "      <td>9.519259</td>\n",
       "    </tr>\n",
       "    <tr>\n",
       "      <th>4</th>\n",
       "      <td>&lt; 30 years old</td>\n",
       "      <td>4.469676</td>\n",
       "      <td>63411.000373</td>\n",
       "      <td>9556.022261</td>\n",
       "      <td>4.266385</td>\n",
       "    </tr>\n",
       "  </tbody>\n",
       "</table>\n",
       "</div>"
      ],
      "text/plain": [
       "           Age Group  person_emp_length  person_income     loan_amnt  \\\n",
       "2     > 60 years old           5.644068  103074.525424  12940.254237   \n",
       "3  50 - 60 years old           5.446512   96108.502326   9511.860465   \n",
       "0  40 - 50 years old           6.278061   80520.213435  10166.411565   \n",
       "1  30 - 40 years old           5.688903   74567.119161   9947.959351   \n",
       "4     < 30 years old           4.469676   63411.000373   9556.022261   \n",
       "\n",
       "   cb_person_cred_hist_length  \n",
       "2                   24.322034  \n",
       "3                   23.734884  \n",
       "0                   13.920918  \n",
       "1                    9.519259  \n",
       "4                    4.266385  "
      ]
     },
     "execution_count": 35,
     "metadata": {},
     "output_type": "execute_result"
    }
   ],
   "source": [
    "merged_df.sort_values(['person_income', 'person_emp_length', 'loan_amnt', 'cb_person_cred_hist_length'], ascending=False)"
   ]
  },
  {
   "cell_type": "markdown",
   "id": "35752a49-edda-46f1-ac91-476c9246f77a",
   "metadata": {},
   "source": [
    "We can now see a clear distinction between different age groups:\n",
    "\n",
    "- Higher income tend to be attained by older individuals\n",
    "- Loan amount seems to be higher for those older than 50\n",
    "- Credit history is also the longest as time passes by for each age group"
   ]
  },
  {
   "cell_type": "markdown",
   "id": "469207ea-76f4-4aa3-bde4-4e39a8e490e5",
   "metadata": {},
   "source": [
    "<h3>Correlation test</h3>\n"
   ]
  },
  {
   "cell_type": "code",
   "execution_count": 36,
   "id": "5e7ed0b7-1c86-4878-93e0-830e4a9f5a0c",
   "metadata": {
    "tags": []
   },
   "outputs": [
    {
     "data": {
      "text/html": [
       "<div>\n",
       "<style scoped>\n",
       "    .dataframe tbody tr th:only-of-type {\n",
       "        vertical-align: middle;\n",
       "    }\n",
       "\n",
       "    .dataframe tbody tr th {\n",
       "        vertical-align: top;\n",
       "    }\n",
       "\n",
       "    .dataframe thead th {\n",
       "        text-align: right;\n",
       "    }\n",
       "</style>\n",
       "<table border=\"1\" class=\"dataframe\">\n",
       "  <thead>\n",
       "    <tr style=\"text-align: right;\">\n",
       "      <th></th>\n",
       "      <th>index</th>\n",
       "      <th>person_age</th>\n",
       "      <th>person_income</th>\n",
       "      <th>person_home_ownership</th>\n",
       "      <th>person_emp_length</th>\n",
       "      <th>loan_intent</th>\n",
       "      <th>loan_grade</th>\n",
       "      <th>loan_amnt</th>\n",
       "      <th>loan_int_rate</th>\n",
       "      <th>loan_status</th>\n",
       "      <th>loan_percent_income</th>\n",
       "      <th>cb_person_default_on_file</th>\n",
       "      <th>cb_person_cred_hist_length</th>\n",
       "      <th>Age Group</th>\n",
       "    </tr>\n",
       "  </thead>\n",
       "  <tbody>\n",
       "    <tr>\n",
       "      <th>0</th>\n",
       "      <td>1</td>\n",
       "      <td>21</td>\n",
       "      <td>9600</td>\n",
       "      <td>OWN</td>\n",
       "      <td>5.0</td>\n",
       "      <td>EDUCATION</td>\n",
       "      <td>B</td>\n",
       "      <td>1000</td>\n",
       "      <td>11.14</td>\n",
       "      <td>0</td>\n",
       "      <td>0.10</td>\n",
       "      <td>N</td>\n",
       "      <td>2</td>\n",
       "      <td>&lt; 30 years old</td>\n",
       "    </tr>\n",
       "    <tr>\n",
       "      <th>1</th>\n",
       "      <td>2</td>\n",
       "      <td>25</td>\n",
       "      <td>9600</td>\n",
       "      <td>MORTGAGE</td>\n",
       "      <td>1.0</td>\n",
       "      <td>MEDICAL</td>\n",
       "      <td>C</td>\n",
       "      <td>5500</td>\n",
       "      <td>12.87</td>\n",
       "      <td>1</td>\n",
       "      <td>0.57</td>\n",
       "      <td>N</td>\n",
       "      <td>3</td>\n",
       "      <td>&lt; 30 years old</td>\n",
       "    </tr>\n",
       "    <tr>\n",
       "      <th>2</th>\n",
       "      <td>3</td>\n",
       "      <td>23</td>\n",
       "      <td>65500</td>\n",
       "      <td>RENT</td>\n",
       "      <td>4.0</td>\n",
       "      <td>MEDICAL</td>\n",
       "      <td>C</td>\n",
       "      <td>35000</td>\n",
       "      <td>15.23</td>\n",
       "      <td>1</td>\n",
       "      <td>0.53</td>\n",
       "      <td>N</td>\n",
       "      <td>2</td>\n",
       "      <td>&lt; 30 years old</td>\n",
       "    </tr>\n",
       "    <tr>\n",
       "      <th>3</th>\n",
       "      <td>4</td>\n",
       "      <td>24</td>\n",
       "      <td>54400</td>\n",
       "      <td>RENT</td>\n",
       "      <td>8.0</td>\n",
       "      <td>MEDICAL</td>\n",
       "      <td>C</td>\n",
       "      <td>35000</td>\n",
       "      <td>14.27</td>\n",
       "      <td>1</td>\n",
       "      <td>0.55</td>\n",
       "      <td>Y</td>\n",
       "      <td>4</td>\n",
       "      <td>&lt; 30 years old</td>\n",
       "    </tr>\n",
       "    <tr>\n",
       "      <th>4</th>\n",
       "      <td>5</td>\n",
       "      <td>21</td>\n",
       "      <td>9900</td>\n",
       "      <td>OWN</td>\n",
       "      <td>2.0</td>\n",
       "      <td>VENTURE</td>\n",
       "      <td>A</td>\n",
       "      <td>2500</td>\n",
       "      <td>7.14</td>\n",
       "      <td>1</td>\n",
       "      <td>0.25</td>\n",
       "      <td>N</td>\n",
       "      <td>2</td>\n",
       "      <td>&lt; 30 years old</td>\n",
       "    </tr>\n",
       "    <tr>\n",
       "      <th>...</th>\n",
       "      <td>...</td>\n",
       "      <td>...</td>\n",
       "      <td>...</td>\n",
       "      <td>...</td>\n",
       "      <td>...</td>\n",
       "      <td>...</td>\n",
       "      <td>...</td>\n",
       "      <td>...</td>\n",
       "      <td>...</td>\n",
       "      <td>...</td>\n",
       "      <td>...</td>\n",
       "      <td>...</td>\n",
       "      <td>...</td>\n",
       "      <td>...</td>\n",
       "    </tr>\n",
       "    <tr>\n",
       "      <th>31669</th>\n",
       "      <td>32576</td>\n",
       "      <td>57</td>\n",
       "      <td>53000</td>\n",
       "      <td>MORTGAGE</td>\n",
       "      <td>1.0</td>\n",
       "      <td>PERSONAL</td>\n",
       "      <td>C</td>\n",
       "      <td>5800</td>\n",
       "      <td>13.16</td>\n",
       "      <td>0</td>\n",
       "      <td>0.11</td>\n",
       "      <td>N</td>\n",
       "      <td>30</td>\n",
       "      <td>50 - 60 years old</td>\n",
       "    </tr>\n",
       "    <tr>\n",
       "      <th>31670</th>\n",
       "      <td>32577</td>\n",
       "      <td>54</td>\n",
       "      <td>120000</td>\n",
       "      <td>MORTGAGE</td>\n",
       "      <td>4.0</td>\n",
       "      <td>PERSONAL</td>\n",
       "      <td>A</td>\n",
       "      <td>17625</td>\n",
       "      <td>7.49</td>\n",
       "      <td>0</td>\n",
       "      <td>0.15</td>\n",
       "      <td>N</td>\n",
       "      <td>19</td>\n",
       "      <td>50 - 60 years old</td>\n",
       "    </tr>\n",
       "    <tr>\n",
       "      <th>31671</th>\n",
       "      <td>32578</td>\n",
       "      <td>65</td>\n",
       "      <td>76000</td>\n",
       "      <td>RENT</td>\n",
       "      <td>3.0</td>\n",
       "      <td>HOMEIMPROVEMENT</td>\n",
       "      <td>B</td>\n",
       "      <td>35000</td>\n",
       "      <td>10.99</td>\n",
       "      <td>1</td>\n",
       "      <td>0.46</td>\n",
       "      <td>N</td>\n",
       "      <td>28</td>\n",
       "      <td>&gt; 60 years old</td>\n",
       "    </tr>\n",
       "    <tr>\n",
       "      <th>31672</th>\n",
       "      <td>32579</td>\n",
       "      <td>56</td>\n",
       "      <td>150000</td>\n",
       "      <td>MORTGAGE</td>\n",
       "      <td>5.0</td>\n",
       "      <td>PERSONAL</td>\n",
       "      <td>B</td>\n",
       "      <td>15000</td>\n",
       "      <td>11.48</td>\n",
       "      <td>0</td>\n",
       "      <td>0.10</td>\n",
       "      <td>N</td>\n",
       "      <td>26</td>\n",
       "      <td>50 - 60 years old</td>\n",
       "    </tr>\n",
       "    <tr>\n",
       "      <th>31673</th>\n",
       "      <td>32580</td>\n",
       "      <td>66</td>\n",
       "      <td>42000</td>\n",
       "      <td>RENT</td>\n",
       "      <td>2.0</td>\n",
       "      <td>MEDICAL</td>\n",
       "      <td>B</td>\n",
       "      <td>6475</td>\n",
       "      <td>9.99</td>\n",
       "      <td>0</td>\n",
       "      <td>0.15</td>\n",
       "      <td>N</td>\n",
       "      <td>30</td>\n",
       "      <td>&gt; 60 years old</td>\n",
       "    </tr>\n",
       "  </tbody>\n",
       "</table>\n",
       "<p>31674 rows × 14 columns</p>\n",
       "</div>"
      ],
      "text/plain": [
       "       index  person_age  person_income person_home_ownership  \\\n",
       "0          1          21           9600                   OWN   \n",
       "1          2          25           9600              MORTGAGE   \n",
       "2          3          23          65500                  RENT   \n",
       "3          4          24          54400                  RENT   \n",
       "4          5          21           9900                   OWN   \n",
       "...      ...         ...            ...                   ...   \n",
       "31669  32576          57          53000              MORTGAGE   \n",
       "31670  32577          54         120000              MORTGAGE   \n",
       "31671  32578          65          76000                  RENT   \n",
       "31672  32579          56         150000              MORTGAGE   \n",
       "31673  32580          66          42000                  RENT   \n",
       "\n",
       "       person_emp_length      loan_intent loan_grade  loan_amnt  \\\n",
       "0                    5.0        EDUCATION          B       1000   \n",
       "1                    1.0          MEDICAL          C       5500   \n",
       "2                    4.0          MEDICAL          C      35000   \n",
       "3                    8.0          MEDICAL          C      35000   \n",
       "4                    2.0          VENTURE          A       2500   \n",
       "...                  ...              ...        ...        ...   \n",
       "31669                1.0         PERSONAL          C       5800   \n",
       "31670                4.0         PERSONAL          A      17625   \n",
       "31671                3.0  HOMEIMPROVEMENT          B      35000   \n",
       "31672                5.0         PERSONAL          B      15000   \n",
       "31673                2.0          MEDICAL          B       6475   \n",
       "\n",
       "       loan_int_rate  loan_status  loan_percent_income  \\\n",
       "0              11.14            0                 0.10   \n",
       "1              12.87            1                 0.57   \n",
       "2              15.23            1                 0.53   \n",
       "3              14.27            1                 0.55   \n",
       "4               7.14            1                 0.25   \n",
       "...              ...          ...                  ...   \n",
       "31669          13.16            0                 0.11   \n",
       "31670           7.49            0                 0.15   \n",
       "31671          10.99            1                 0.46   \n",
       "31672          11.48            0                 0.10   \n",
       "31673           9.99            0                 0.15   \n",
       "\n",
       "      cb_person_default_on_file  cb_person_cred_hist_length          Age Group  \n",
       "0                             N                           2     < 30 years old  \n",
       "1                             N                           3     < 30 years old  \n",
       "2                             N                           2     < 30 years old  \n",
       "3                             Y                           4     < 30 years old  \n",
       "4                             N                           2     < 30 years old  \n",
       "...                         ...                         ...                ...  \n",
       "31669                         N                          30  50 - 60 years old  \n",
       "31670                         N                          19  50 - 60 years old  \n",
       "31671                         N                          28     > 60 years old  \n",
       "31672                         N                          26  50 - 60 years old  \n",
       "31673                         N                          30     > 60 years old  \n",
       "\n",
       "[31674 rows x 14 columns]"
      ]
     },
     "execution_count": 36,
     "metadata": {},
     "output_type": "execute_result"
    }
   ],
   "source": [
    "original_df_no_otl"
   ]
  },
  {
   "cell_type": "code",
   "execution_count": 37,
   "id": "753f5541-2923-4ed7-86ac-5cc369238bb9",
   "metadata": {
    "tags": []
   },
   "outputs": [
    {
     "name": "stderr",
     "output_type": "stream",
     "text": [
      "C:\\Users\\jaspe\\AppData\\Local\\Temp\\ipykernel_11300\\3163263634.py:1: SettingWithCopyWarning: \n",
      "A value is trying to be set on a copy of a slice from a DataFrame\n",
      "\n",
      "See the caveats in the documentation: https://pandas.pydata.org/pandas-docs/stable/user_guide/indexing.html#returning-a-view-versus-a-copy\n",
      "  original_df_no_otl.drop(['index'], axis=1, inplace=True)\n"
     ]
    }
   ],
   "source": [
    "original_df_no_otl.drop(['index'], axis=1, inplace=True)"
   ]
  },
  {
   "cell_type": "code",
   "execution_count": 38,
   "id": "edb27823-9f99-4011-a3c7-8436125ea235",
   "metadata": {
    "tags": []
   },
   "outputs": [
    {
     "data": {
      "text/html": [
       "<div>\n",
       "<style scoped>\n",
       "    .dataframe tbody tr th:only-of-type {\n",
       "        vertical-align: middle;\n",
       "    }\n",
       "\n",
       "    .dataframe tbody tr th {\n",
       "        vertical-align: top;\n",
       "    }\n",
       "\n",
       "    .dataframe thead th {\n",
       "        text-align: right;\n",
       "    }\n",
       "</style>\n",
       "<table border=\"1\" class=\"dataframe\">\n",
       "  <thead>\n",
       "    <tr style=\"text-align: right;\">\n",
       "      <th></th>\n",
       "      <th>person_age</th>\n",
       "      <th>person_income</th>\n",
       "      <th>person_emp_length</th>\n",
       "      <th>loan_amnt</th>\n",
       "      <th>loan_int_rate</th>\n",
       "      <th>loan_percent_income</th>\n",
       "      <th>cb_person_cred_hist_length</th>\n",
       "      <th>loan_status</th>\n",
       "    </tr>\n",
       "  </thead>\n",
       "  <tbody>\n",
       "    <tr>\n",
       "      <th>0</th>\n",
       "      <td>21</td>\n",
       "      <td>9600</td>\n",
       "      <td>5.0</td>\n",
       "      <td>1000</td>\n",
       "      <td>11.14</td>\n",
       "      <td>0.10</td>\n",
       "      <td>2</td>\n",
       "      <td>0</td>\n",
       "    </tr>\n",
       "    <tr>\n",
       "      <th>1</th>\n",
       "      <td>25</td>\n",
       "      <td>9600</td>\n",
       "      <td>1.0</td>\n",
       "      <td>5500</td>\n",
       "      <td>12.87</td>\n",
       "      <td>0.57</td>\n",
       "      <td>3</td>\n",
       "      <td>1</td>\n",
       "    </tr>\n",
       "    <tr>\n",
       "      <th>2</th>\n",
       "      <td>23</td>\n",
       "      <td>65500</td>\n",
       "      <td>4.0</td>\n",
       "      <td>35000</td>\n",
       "      <td>15.23</td>\n",
       "      <td>0.53</td>\n",
       "      <td>2</td>\n",
       "      <td>1</td>\n",
       "    </tr>\n",
       "    <tr>\n",
       "      <th>3</th>\n",
       "      <td>24</td>\n",
       "      <td>54400</td>\n",
       "      <td>8.0</td>\n",
       "      <td>35000</td>\n",
       "      <td>14.27</td>\n",
       "      <td>0.55</td>\n",
       "      <td>4</td>\n",
       "      <td>1</td>\n",
       "    </tr>\n",
       "    <tr>\n",
       "      <th>4</th>\n",
       "      <td>21</td>\n",
       "      <td>9900</td>\n",
       "      <td>2.0</td>\n",
       "      <td>2500</td>\n",
       "      <td>7.14</td>\n",
       "      <td>0.25</td>\n",
       "      <td>2</td>\n",
       "      <td>1</td>\n",
       "    </tr>\n",
       "    <tr>\n",
       "      <th>...</th>\n",
       "      <td>...</td>\n",
       "      <td>...</td>\n",
       "      <td>...</td>\n",
       "      <td>...</td>\n",
       "      <td>...</td>\n",
       "      <td>...</td>\n",
       "      <td>...</td>\n",
       "      <td>...</td>\n",
       "    </tr>\n",
       "    <tr>\n",
       "      <th>31669</th>\n",
       "      <td>57</td>\n",
       "      <td>53000</td>\n",
       "      <td>1.0</td>\n",
       "      <td>5800</td>\n",
       "      <td>13.16</td>\n",
       "      <td>0.11</td>\n",
       "      <td>30</td>\n",
       "      <td>0</td>\n",
       "    </tr>\n",
       "    <tr>\n",
       "      <th>31670</th>\n",
       "      <td>54</td>\n",
       "      <td>120000</td>\n",
       "      <td>4.0</td>\n",
       "      <td>17625</td>\n",
       "      <td>7.49</td>\n",
       "      <td>0.15</td>\n",
       "      <td>19</td>\n",
       "      <td>0</td>\n",
       "    </tr>\n",
       "    <tr>\n",
       "      <th>31671</th>\n",
       "      <td>65</td>\n",
       "      <td>76000</td>\n",
       "      <td>3.0</td>\n",
       "      <td>35000</td>\n",
       "      <td>10.99</td>\n",
       "      <td>0.46</td>\n",
       "      <td>28</td>\n",
       "      <td>1</td>\n",
       "    </tr>\n",
       "    <tr>\n",
       "      <th>31672</th>\n",
       "      <td>56</td>\n",
       "      <td>150000</td>\n",
       "      <td>5.0</td>\n",
       "      <td>15000</td>\n",
       "      <td>11.48</td>\n",
       "      <td>0.10</td>\n",
       "      <td>26</td>\n",
       "      <td>0</td>\n",
       "    </tr>\n",
       "    <tr>\n",
       "      <th>31673</th>\n",
       "      <td>66</td>\n",
       "      <td>42000</td>\n",
       "      <td>2.0</td>\n",
       "      <td>6475</td>\n",
       "      <td>9.99</td>\n",
       "      <td>0.15</td>\n",
       "      <td>30</td>\n",
       "      <td>0</td>\n",
       "    </tr>\n",
       "  </tbody>\n",
       "</table>\n",
       "<p>31674 rows × 8 columns</p>\n",
       "</div>"
      ],
      "text/plain": [
       "       person_age  person_income  person_emp_length  loan_amnt  loan_int_rate  \\\n",
       "0              21           9600                5.0       1000          11.14   \n",
       "1              25           9600                1.0       5500          12.87   \n",
       "2              23          65500                4.0      35000          15.23   \n",
       "3              24          54400                8.0      35000          14.27   \n",
       "4              21           9900                2.0       2500           7.14   \n",
       "...           ...            ...                ...        ...            ...   \n",
       "31669          57          53000                1.0       5800          13.16   \n",
       "31670          54         120000                4.0      17625           7.49   \n",
       "31671          65          76000                3.0      35000          10.99   \n",
       "31672          56         150000                5.0      15000          11.48   \n",
       "31673          66          42000                2.0       6475           9.99   \n",
       "\n",
       "       loan_percent_income  cb_person_cred_hist_length  loan_status  \n",
       "0                     0.10                           2            0  \n",
       "1                     0.57                           3            1  \n",
       "2                     0.53                           2            1  \n",
       "3                     0.55                           4            1  \n",
       "4                     0.25                           2            1  \n",
       "...                    ...                         ...          ...  \n",
       "31669                 0.11                          30            0  \n",
       "31670                 0.15                          19            0  \n",
       "31671                 0.46                          28            1  \n",
       "31672                 0.10                          26            0  \n",
       "31673                 0.15                          30            0  \n",
       "\n",
       "[31674 rows x 8 columns]"
      ]
     },
     "execution_count": 38,
     "metadata": {},
     "output_type": "execute_result"
    }
   ],
   "source": [
    "numbered_data = original_df_no_otl[['person_age', 'person_income', 'person_emp_length', 'loan_amnt',  \n",
    "                   'loan_int_rate', 'loan_percent_income', 'cb_person_cred_hist_length', 'loan_status',\n",
    "                   ]]\n",
    "numbered_data"
   ]
  },
  {
   "cell_type": "code",
   "execution_count": 39,
   "id": "69a81d67-e7c0-461d-aea2-14eb6fcf67fd",
   "metadata": {
    "tags": []
   },
   "outputs": [],
   "source": [
    "corr = original_df_no_otl[['person_age', 'person_income', 'person_emp_length', 'loan_amnt',  \n",
    "                   'loan_int_rate', 'loan_percent_income', 'cb_person_cred_hist_length','loan_status',\n",
    "                   ]].corr()"
   ]
  },
  {
   "cell_type": "code",
   "execution_count": 40,
   "id": "d7d8cc8a-803f-4266-aba4-e25095cd8a05",
   "metadata": {
    "tags": []
   },
   "outputs": [
    {
     "data": {
      "text/plain": [
       "<Axes: >"
      ]
     },
     "execution_count": 40,
     "metadata": {},
     "output_type": "execute_result"
    },
    {
     "data": {
      "image/png": "[encoded data removed]",
      "text/plain": [
       "<Figure size 640x480 with 2 Axes>"
      ]
     },
     "metadata": {},
     "output_type": "display_data"
    }
   ],
   "source": [
    "sns.heatmap(corr, annot=True)"
   ]
  },
  {
   "cell_type": "markdown",
   "id": "322047de-2b5a-4a82-8fe8-384864a6757e",
   "metadata": {},
   "source": [
    "Since we are trying to develop multiple models to predict credit history, we should check for any collinearity between variables.\n",
    "\n",
    "Let's use VIF (Variable Inflation Factor), to see if there are any multicollinearities between our features:"
   ]
  },
  {
   "cell_type": "code",
   "execution_count": 41,
   "id": "a23f75fc-cc2b-4a05-910c-425dfb331ac2",
   "metadata": {
    "tags": []
   },
   "outputs": [
    {
     "name": "stdout",
     "output_type": "stream",
     "text": [
      "                      feature        VIF\n",
      "0                       const  67.884257\n",
      "1                  person_age   4.435666\n",
      "2               person_income   1.802724\n",
      "3           person_emp_length   1.068348\n",
      "4                   loan_amnt   2.558162\n",
      "5               loan_int_rate   1.144062\n",
      "6         loan_percent_income   2.745178\n",
      "7  cb_person_cred_hist_length   4.389299\n",
      "8                 loan_status   1.332764\n"
     ]
    }
   ],
   "source": [
    "from statsmodels.stats.outliers_influence import variance_inflation_factor\n",
    "from statsmodels.tools.tools import add_constant\n",
    "\n",
    "# Assuming 'df' is your DataFrame containing the predictor variables\n",
    "X = add_constant(numbered_data)  # Adds a constant term to the predictor variables\n",
    "\n",
    "# Calculate VIF for each predictor variable\n",
    "vif_data = pd.DataFrame()\n",
    "vif_data[\"feature\"] = X.columns\n",
    "vif_data[\"VIF\"] = [variance_inflation_factor(X.values, i) for i in range(X.shape[1])]\n",
    "\n",
    "print(vif_data)\n"
   ]
  },
  {
   "cell_type": "markdown",
   "id": "739e009e-afb2-4826-803c-f9f6534e1250",
   "metadata": {},
   "source": [
    "Since none of our features have VIF figures greater than 5, we can safely assume that our data does not display multicollinearity issues which is good.\n",
    "\n",
    "We now know that regression models developed will not be affected by collinearity issues, this means that none of our features are dependent on each other i.e. change in one variable's coefficient will not be associated with changes to another coefficient due to collinearity"
   ]
  },
  {
   "cell_type": "markdown",
   "id": "2b2886e4-948f-47d2-983f-cdc582b53b0f",
   "metadata": {},
   "source": [
    "<h3>Analysis of categorical data</h3>"
   ]
  },
  {
   "cell_type": "code",
   "execution_count": 42,
   "id": "306e7c99-7914-4fd6-a644-12dcc3cfc1c8",
   "metadata": {
    "tags": []
   },
   "outputs": [
    {
     "data": {
      "text/html": [
       "<div>\n",
       "<style scoped>\n",
       "    .dataframe tbody tr th:only-of-type {\n",
       "        vertical-align: middle;\n",
       "    }\n",
       "\n",
       "    .dataframe tbody tr th {\n",
       "        vertical-align: top;\n",
       "    }\n",
       "\n",
       "    .dataframe thead th {\n",
       "        text-align: right;\n",
       "    }\n",
       "</style>\n",
       "<table border=\"1\" class=\"dataframe\">\n",
       "  <thead>\n",
       "    <tr style=\"text-align: right;\">\n",
       "      <th></th>\n",
       "      <th>Age Group</th>\n",
       "      <th>person_home_ownership</th>\n",
       "      <th>loan_intent</th>\n",
       "      <th>loan_grade</th>\n",
       "      <th>cb_person_default_on_file</th>\n",
       "    </tr>\n",
       "  </thead>\n",
       "  <tbody>\n",
       "    <tr>\n",
       "      <th>0</th>\n",
       "      <td>&lt; 30 years old</td>\n",
       "      <td>OWN</td>\n",
       "      <td>EDUCATION</td>\n",
       "      <td>B</td>\n",
       "      <td>N</td>\n",
       "    </tr>\n",
       "    <tr>\n",
       "      <th>1</th>\n",
       "      <td>&lt; 30 years old</td>\n",
       "      <td>MORTGAGE</td>\n",
       "      <td>MEDICAL</td>\n",
       "      <td>C</td>\n",
       "      <td>N</td>\n",
       "    </tr>\n",
       "    <tr>\n",
       "      <th>2</th>\n",
       "      <td>&lt; 30 years old</td>\n",
       "      <td>RENT</td>\n",
       "      <td>MEDICAL</td>\n",
       "      <td>C</td>\n",
       "      <td>N</td>\n",
       "    </tr>\n",
       "    <tr>\n",
       "      <th>3</th>\n",
       "      <td>&lt; 30 years old</td>\n",
       "      <td>RENT</td>\n",
       "      <td>MEDICAL</td>\n",
       "      <td>C</td>\n",
       "      <td>Y</td>\n",
       "    </tr>\n",
       "    <tr>\n",
       "      <th>4</th>\n",
       "      <td>&lt; 30 years old</td>\n",
       "      <td>OWN</td>\n",
       "      <td>VENTURE</td>\n",
       "      <td>A</td>\n",
       "      <td>N</td>\n",
       "    </tr>\n",
       "    <tr>\n",
       "      <th>...</th>\n",
       "      <td>...</td>\n",
       "      <td>...</td>\n",
       "      <td>...</td>\n",
       "      <td>...</td>\n",
       "      <td>...</td>\n",
       "    </tr>\n",
       "    <tr>\n",
       "      <th>31669</th>\n",
       "      <td>50 - 60 years old</td>\n",
       "      <td>MORTGAGE</td>\n",
       "      <td>PERSONAL</td>\n",
       "      <td>C</td>\n",
       "      <td>N</td>\n",
       "    </tr>\n",
       "    <tr>\n",
       "      <th>31670</th>\n",
       "      <td>50 - 60 years old</td>\n",
       "      <td>MORTGAGE</td>\n",
       "      <td>PERSONAL</td>\n",
       "      <td>A</td>\n",
       "      <td>N</td>\n",
       "    </tr>\n",
       "    <tr>\n",
       "      <th>31671</th>\n",
       "      <td>&gt; 60 years old</td>\n",
       "      <td>RENT</td>\n",
       "      <td>HOMEIMPROVEMENT</td>\n",
       "      <td>B</td>\n",
       "      <td>N</td>\n",
       "    </tr>\n",
       "    <tr>\n",
       "      <th>31672</th>\n",
       "      <td>50 - 60 years old</td>\n",
       "      <td>MORTGAGE</td>\n",
       "      <td>PERSONAL</td>\n",
       "      <td>B</td>\n",
       "      <td>N</td>\n",
       "    </tr>\n",
       "    <tr>\n",
       "      <th>31673</th>\n",
       "      <td>&gt; 60 years old</td>\n",
       "      <td>RENT</td>\n",
       "      <td>MEDICAL</td>\n",
       "      <td>B</td>\n",
       "      <td>N</td>\n",
       "    </tr>\n",
       "  </tbody>\n",
       "</table>\n",
       "<p>31674 rows × 5 columns</p>\n",
       "</div>"
      ],
      "text/plain": [
       "               Age Group person_home_ownership      loan_intent loan_grade  \\\n",
       "0         < 30 years old                   OWN        EDUCATION          B   \n",
       "1         < 30 years old              MORTGAGE          MEDICAL          C   \n",
       "2         < 30 years old                  RENT          MEDICAL          C   \n",
       "3         < 30 years old                  RENT          MEDICAL          C   \n",
       "4         < 30 years old                   OWN          VENTURE          A   \n",
       "...                  ...                   ...              ...        ...   \n",
       "31669  50 - 60 years old              MORTGAGE         PERSONAL          C   \n",
       "31670  50 - 60 years old              MORTGAGE         PERSONAL          A   \n",
       "31671     > 60 years old                  RENT  HOMEIMPROVEMENT          B   \n",
       "31672  50 - 60 years old              MORTGAGE         PERSONAL          B   \n",
       "31673     > 60 years old                  RENT          MEDICAL          B   \n",
       "\n",
       "      cb_person_default_on_file  \n",
       "0                             N  \n",
       "1                             N  \n",
       "2                             N  \n",
       "3                             Y  \n",
       "4                             N  \n",
       "...                         ...  \n",
       "31669                         N  \n",
       "31670                         N  \n",
       "31671                         N  \n",
       "31672                         N  \n",
       "31673                         N  \n",
       "\n",
       "[31674 rows x 5 columns]"
      ]
     },
     "execution_count": 42,
     "metadata": {},
     "output_type": "execute_result"
    }
   ],
   "source": [
    "cat_data = original_df_no_otl[['Age Group', 'person_home_ownership', 'loan_intent', 'loan_grade', 'cb_person_default_on_file']]\n",
    "cat_data"
   ]
  },
  {
   "cell_type": "code",
   "execution_count": 43,
   "id": "7644fa69-6621-4f45-96c6-47416b0dd10b",
   "metadata": {
    "tags": []
   },
   "outputs": [
    {
     "data": {
      "text/plain": [
       "<Axes: xlabel='Age Group'>"
      ]
     },
     "execution_count": 43,
     "metadata": {},
     "output_type": "execute_result"
    },
    {
     "data": {
      "image/png": "[encoded data removed]",
      "text/plain": [
       "<Figure size 640x480 with 1 Axes>"
      ]
     },
     "metadata": {},
     "output_type": "display_data"
    }
   ],
   "source": [
    "#Build contingency tables\n",
    "table_home_ownership = pd.crosstab(index=cat_data['Age Group'], columns=cat_data['person_home_ownership'], normalize=True)\n",
    "table_home_ownership.sort_values(by=\"RENT\", ascending=False).plot(kind='bar')"
   ]
  },
  {
   "cell_type": "code",
   "execution_count": 44,
   "id": "806b98b2-3d89-4f23-9b16-1b23264f583a",
   "metadata": {
    "tags": []
   },
   "outputs": [
    {
     "data": {
      "text/plain": [
       "<Axes: xlabel='Age Group'>"
      ]
     },
     "execution_count": 44,
     "metadata": {},
     "output_type": "execute_result"
    },
    {
     "data": {
      "image/png": "[encoded data removed]",
      "text/plain": [
       "<Figure size 640x480 with 1 Axes>"
      ]
     },
     "metadata": {},
     "output_type": "display_data"
    }
   ],
   "source": [
    "#Build contingency tables\n",
    "table_home_ownership = pd.crosstab(index=cat_data['Age Group'], columns=cat_data['loan_grade'], normalize=True)\n",
    "table_home_ownership.sort_values(by=\"A\", ascending=False).plot(kind='bar')"
   ]
  },
  {
   "cell_type": "code",
   "execution_count": 45,
   "id": "3bdfca97-e921-4b66-b333-3bcd532f5816",
   "metadata": {
    "tags": []
   },
   "outputs": [
    {
     "data": {
      "text/plain": [
       "<Axes: xlabel='Age Group'>"
      ]
     },
     "execution_count": 45,
     "metadata": {},
     "output_type": "execute_result"
    },
    {
     "data": {
      "image/png": "[encoded data removed]",
      "text/plain": [
       "<Figure size 640x480 with 1 Axes>"
      ]
     },
     "metadata": {},
     "output_type": "display_data"
    }
   ],
   "source": [
    "#Build contingency tables\n",
    "table_home_ownership = pd.crosstab(index=cat_data['Age Group'], columns=cat_data['loan_intent'], normalize=True)\n",
    "table_home_ownership.sort_values(by=\"EDUCATION\", ascending=False).plot(kind='bar')"
   ]
  },
  {
   "cell_type": "code",
   "execution_count": 46,
   "id": "6a512e4d-7707-4872-96da-9b730fbfe7a2",
   "metadata": {
    "tags": []
   },
   "outputs": [
    {
     "data": {
      "text/plain": [
       "<Axes: xlabel='Age Group'>"
      ]
     },
     "execution_count": 46,
     "metadata": {},
     "output_type": "execute_result"
    },
    {
     "data": {
      "image/png": "[encoded data removed]",
      "text/plain": [
       "<Figure size 640x480 with 1 Axes>"
      ]
     },
     "metadata": {},
     "output_type": "display_data"
    }
   ],
   "source": [
    "#Build contingency tables\n",
    "table_home_ownership = pd.crosstab(index=cat_data['Age Group'], columns=cat_data['cb_person_default_on_file'], normalize=True)\n",
    "table_home_ownership.sort_values(by=\"N\", ascending=False).plot(kind='bar')"
   ]
  },
  {
   "cell_type": "markdown",
   "id": "c5d74e72-5520-46dd-9fe0-6c37edd99ae7",
   "metadata": {},
   "source": [
    "We can conclude with the following observations:\n",
    "\n",
    "Due to the larger number of loans obtained by persons aged 30 or less:\n",
    "- Majority have loans for RENT home ownerships, followed by MORTGAGE\n",
    "- Majority have a loan grade \"A\", followed by loan grade \"B\"\n",
    "- Majority have a loan from EDUCATION, followed by MEDICAL \n",
    "- Majority have no defaults on their loans (>60%)"
   ]
  },
  {
   "cell_type": "markdown",
   "id": "b43227ae-0b06-4195-94a1-600f132d13d8",
   "metadata": {},
   "source": [
    "<b>We now have a better understanding of what kind of data we're dealing with. We have also conducted a variety of analysis to confirm how our age groups look. \n",
    "    \n",
    "<b>Lets now do some model building"
   ]
  },
  {
   "cell_type": "markdown",
   "id": "afcd819c-9fa0-44e1-9563-053b323c4344",
   "metadata": {},
   "source": [
    "<h3>Model Development</h3>"
   ]
  },
  {
   "cell_type": "markdown",
   "id": "02b60850-a1c6-42c1-91c0-e88e71495a68",
   "metadata": {
    "tags": []
   },
   "source": [
    "Let's recap what we know about our data:\n",
    "\n",
    "- We have 4 categorical variables:\n",
    "    - person_home_ownership\n",
    "    - loan_grade\n",
    "    - cb_person_default_on_file\n",
    "    - loan_intent\n",
    "- We have 8 numerical variables:\n",
    "    - person_age   \n",
    "    - person_income            \n",
    "    - person_emp_length   \n",
    "    - loan_amnt   \n",
    "    - loan_int_rate   \n",
    "    - loan_percent_income   \n",
    "    - cb_person_cred_hist_length \n",
    "    - loan_status\n",
    "\n",
    "Ultimately, we want to determine whether someone will likely default or not (1 and 0 respectively). Therefore, this will likely be a <b>classification problem</b>.\n",
    "\n",
    "All variables can be considered for the models to build as they all posses importance to the final decision.\n",
    "\n",
    "Therefore, we will consider loan_status as the target class vs all other (excl. Age Group feature)\n",
    "\n",
    "However, we need to keep in mind that we are dealing with an imbalanced target class i.e. large differece between different classes.\n",
    "\n",
    "We will also need to encode our categorical variables as well.\n",
    "\n",
    "Therefore, accuracy is NOT a good performance metric to measure. We can therefore use:\n",
    "- Precision/Recall\n",
    "- Harmonic mean (F1 score)\n",
    "- Confusion matrix\n",
    "- PR curves\n",
    "- ROC curve/ROC-AUC Score\n",
    "\n",
    "In terms of models to test:\n",
    "- Logistic Regression\n",
    "- SGD Classifier\n",
    "- Random Forest"
   ]
  },
  {
   "cell_type": "code",
   "execution_count": 47,
   "id": "1e277973-4280-458a-8046-730d98480e24",
   "metadata": {
    "tags": []
   },
   "outputs": [
    {
     "data": {
      "text/plain": [
       "person_age                      int64\n",
       "person_income                   int64\n",
       "person_home_ownership          object\n",
       "person_emp_length             float64\n",
       "loan_intent                    object\n",
       "loan_grade                     object\n",
       "loan_amnt                       int64\n",
       "loan_int_rate                 float64\n",
       "loan_status                     int64\n",
       "loan_percent_income           float64\n",
       "cb_person_default_on_file      object\n",
       "cb_person_cred_hist_length      int64\n",
       "Age Group                      object\n",
       "dtype: object"
      ]
     },
     "execution_count": 47,
     "metadata": {},
     "output_type": "execute_result"
    }
   ],
   "source": [
    "original_df_no_otl.dtypes"
   ]
  },
  {
   "cell_type": "code",
   "execution_count": 48,
   "id": "1ae69213-3497-46e0-9814-4075753f0f14",
   "metadata": {
    "tags": []
   },
   "outputs": [
    {
     "data": {
      "text/html": [
       "<div>\n",
       "<style scoped>\n",
       "    .dataframe tbody tr th:only-of-type {\n",
       "        vertical-align: middle;\n",
       "    }\n",
       "\n",
       "    .dataframe tbody tr th {\n",
       "        vertical-align: top;\n",
       "    }\n",
       "\n",
       "    .dataframe thead th {\n",
       "        text-align: right;\n",
       "    }\n",
       "</style>\n",
       "<table border=\"1\" class=\"dataframe\">\n",
       "  <thead>\n",
       "    <tr style=\"text-align: right;\">\n",
       "      <th></th>\n",
       "      <th>person_age</th>\n",
       "      <th>person_income</th>\n",
       "      <th>person_home_ownership</th>\n",
       "      <th>person_emp_length</th>\n",
       "      <th>loan_intent</th>\n",
       "      <th>loan_grade</th>\n",
       "      <th>loan_amnt</th>\n",
       "      <th>loan_int_rate</th>\n",
       "      <th>loan_status</th>\n",
       "      <th>loan_percent_income</th>\n",
       "      <th>cb_person_default_on_file</th>\n",
       "      <th>cb_person_cred_hist_length</th>\n",
       "      <th>Age Group</th>\n",
       "    </tr>\n",
       "  </thead>\n",
       "  <tbody>\n",
       "    <tr>\n",
       "      <th>0</th>\n",
       "      <td>21</td>\n",
       "      <td>9600</td>\n",
       "      <td>OWN</td>\n",
       "      <td>5.0</td>\n",
       "      <td>EDUCATION</td>\n",
       "      <td>B</td>\n",
       "      <td>1000</td>\n",
       "      <td>11.14</td>\n",
       "      <td>0</td>\n",
       "      <td>0.10</td>\n",
       "      <td>N</td>\n",
       "      <td>2</td>\n",
       "      <td>&lt; 30 years old</td>\n",
       "    </tr>\n",
       "    <tr>\n",
       "      <th>1</th>\n",
       "      <td>25</td>\n",
       "      <td>9600</td>\n",
       "      <td>MORTGAGE</td>\n",
       "      <td>1.0</td>\n",
       "      <td>MEDICAL</td>\n",
       "      <td>C</td>\n",
       "      <td>5500</td>\n",
       "      <td>12.87</td>\n",
       "      <td>1</td>\n",
       "      <td>0.57</td>\n",
       "      <td>N</td>\n",
       "      <td>3</td>\n",
       "      <td>&lt; 30 years old</td>\n",
       "    </tr>\n",
       "    <tr>\n",
       "      <th>2</th>\n",
       "      <td>23</td>\n",
       "      <td>65500</td>\n",
       "      <td>RENT</td>\n",
       "      <td>4.0</td>\n",
       "      <td>MEDICAL</td>\n",
       "      <td>C</td>\n",
       "      <td>35000</td>\n",
       "      <td>15.23</td>\n",
       "      <td>1</td>\n",
       "      <td>0.53</td>\n",
       "      <td>N</td>\n",
       "      <td>2</td>\n",
       "      <td>&lt; 30 years old</td>\n",
       "    </tr>\n",
       "    <tr>\n",
       "      <th>3</th>\n",
       "      <td>24</td>\n",
       "      <td>54400</td>\n",
       "      <td>RENT</td>\n",
       "      <td>8.0</td>\n",
       "      <td>MEDICAL</td>\n",
       "      <td>C</td>\n",
       "      <td>35000</td>\n",
       "      <td>14.27</td>\n",
       "      <td>1</td>\n",
       "      <td>0.55</td>\n",
       "      <td>Y</td>\n",
       "      <td>4</td>\n",
       "      <td>&lt; 30 years old</td>\n",
       "    </tr>\n",
       "    <tr>\n",
       "      <th>4</th>\n",
       "      <td>21</td>\n",
       "      <td>9900</td>\n",
       "      <td>OWN</td>\n",
       "      <td>2.0</td>\n",
       "      <td>VENTURE</td>\n",
       "      <td>A</td>\n",
       "      <td>2500</td>\n",
       "      <td>7.14</td>\n",
       "      <td>1</td>\n",
       "      <td>0.25</td>\n",
       "      <td>N</td>\n",
       "      <td>2</td>\n",
       "      <td>&lt; 30 years old</td>\n",
       "    </tr>\n",
       "    <tr>\n",
       "      <th>...</th>\n",
       "      <td>...</td>\n",
       "      <td>...</td>\n",
       "      <td>...</td>\n",
       "      <td>...</td>\n",
       "      <td>...</td>\n",
       "      <td>...</td>\n",
       "      <td>...</td>\n",
       "      <td>...</td>\n",
       "      <td>...</td>\n",
       "      <td>...</td>\n",
       "      <td>...</td>\n",
       "      <td>...</td>\n",
       "      <td>...</td>\n",
       "    </tr>\n",
       "    <tr>\n",
       "      <th>31669</th>\n",
       "      <td>57</td>\n",
       "      <td>53000</td>\n",
       "      <td>MORTGAGE</td>\n",
       "      <td>1.0</td>\n",
       "      <td>PERSONAL</td>\n",
       "      <td>C</td>\n",
       "      <td>5800</td>\n",
       "      <td>13.16</td>\n",
       "      <td>0</td>\n",
       "      <td>0.11</td>\n",
       "      <td>N</td>\n",
       "      <td>30</td>\n",
       "      <td>50 - 60 years old</td>\n",
       "    </tr>\n",
       "    <tr>\n",
       "      <th>31670</th>\n",
       "      <td>54</td>\n",
       "      <td>120000</td>\n",
       "      <td>MORTGAGE</td>\n",
       "      <td>4.0</td>\n",
       "      <td>PERSONAL</td>\n",
       "      <td>A</td>\n",
       "      <td>17625</td>\n",
       "      <td>7.49</td>\n",
       "      <td>0</td>\n",
       "      <td>0.15</td>\n",
       "      <td>N</td>\n",
       "      <td>19</td>\n",
       "      <td>50 - 60 years old</td>\n",
       "    </tr>\n",
       "    <tr>\n",
       "      <th>31671</th>\n",
       "      <td>65</td>\n",
       "      <td>76000</td>\n",
       "      <td>RENT</td>\n",
       "      <td>3.0</td>\n",
       "      <td>HOMEIMPROVEMENT</td>\n",
       "      <td>B</td>\n",
       "      <td>35000</td>\n",
       "      <td>10.99</td>\n",
       "      <td>1</td>\n",
       "      <td>0.46</td>\n",
       "      <td>N</td>\n",
       "      <td>28</td>\n",
       "      <td>&gt; 60 years old</td>\n",
       "    </tr>\n",
       "    <tr>\n",
       "      <th>31672</th>\n",
       "      <td>56</td>\n",
       "      <td>150000</td>\n",
       "      <td>MORTGAGE</td>\n",
       "      <td>5.0</td>\n",
       "      <td>PERSONAL</td>\n",
       "      <td>B</td>\n",
       "      <td>15000</td>\n",
       "      <td>11.48</td>\n",
       "      <td>0</td>\n",
       "      <td>0.10</td>\n",
       "      <td>N</td>\n",
       "      <td>26</td>\n",
       "      <td>50 - 60 years old</td>\n",
       "    </tr>\n",
       "    <tr>\n",
       "      <th>31673</th>\n",
       "      <td>66</td>\n",
       "      <td>42000</td>\n",
       "      <td>RENT</td>\n",
       "      <td>2.0</td>\n",
       "      <td>MEDICAL</td>\n",
       "      <td>B</td>\n",
       "      <td>6475</td>\n",
       "      <td>9.99</td>\n",
       "      <td>0</td>\n",
       "      <td>0.15</td>\n",
       "      <td>N</td>\n",
       "      <td>30</td>\n",
       "      <td>&gt; 60 years old</td>\n",
       "    </tr>\n",
       "  </tbody>\n",
       "</table>\n",
       "<p>31674 rows × 13 columns</p>\n",
       "</div>"
      ],
      "text/plain": [
       "       person_age  person_income person_home_ownership  person_emp_length  \\\n",
       "0              21           9600                   OWN                5.0   \n",
       "1              25           9600              MORTGAGE                1.0   \n",
       "2              23          65500                  RENT                4.0   \n",
       "3              24          54400                  RENT                8.0   \n",
       "4              21           9900                   OWN                2.0   \n",
       "...           ...            ...                   ...                ...   \n",
       "31669          57          53000              MORTGAGE                1.0   \n",
       "31670          54         120000              MORTGAGE                4.0   \n",
       "31671          65          76000                  RENT                3.0   \n",
       "31672          56         150000              MORTGAGE                5.0   \n",
       "31673          66          42000                  RENT                2.0   \n",
       "\n",
       "           loan_intent loan_grade  loan_amnt  loan_int_rate  loan_status  \\\n",
       "0            EDUCATION          B       1000          11.14            0   \n",
       "1              MEDICAL          C       5500          12.87            1   \n",
       "2              MEDICAL          C      35000          15.23            1   \n",
       "3              MEDICAL          C      35000          14.27            1   \n",
       "4              VENTURE          A       2500           7.14            1   \n",
       "...                ...        ...        ...            ...          ...   \n",
       "31669         PERSONAL          C       5800          13.16            0   \n",
       "31670         PERSONAL          A      17625           7.49            0   \n",
       "31671  HOMEIMPROVEMENT          B      35000          10.99            1   \n",
       "31672         PERSONAL          B      15000          11.48            0   \n",
       "31673          MEDICAL          B       6475           9.99            0   \n",
       "\n",
       "       loan_percent_income cb_person_default_on_file  \\\n",
       "0                     0.10                         N   \n",
       "1                     0.57                         N   \n",
       "2                     0.53                         N   \n",
       "3                     0.55                         Y   \n",
       "4                     0.25                         N   \n",
       "...                    ...                       ...   \n",
       "31669                 0.11                         N   \n",
       "31670                 0.15                         N   \n",
       "31671                 0.46                         N   \n",
       "31672                 0.10                         N   \n",
       "31673                 0.15                         N   \n",
       "\n",
       "       cb_person_cred_hist_length          Age Group  \n",
       "0                               2     < 30 years old  \n",
       "1                               3     < 30 years old  \n",
       "2                               2     < 30 years old  \n",
       "3                               4     < 30 years old  \n",
       "4                               2     < 30 years old  \n",
       "...                           ...                ...  \n",
       "31669                          30  50 - 60 years old  \n",
       "31670                          19  50 - 60 years old  \n",
       "31671                          28     > 60 years old  \n",
       "31672                          26  50 - 60 years old  \n",
       "31673                          30     > 60 years old  \n",
       "\n",
       "[31674 rows x 13 columns]"
      ]
     },
     "execution_count": 48,
     "metadata": {},
     "output_type": "execute_result"
    }
   ],
   "source": [
    "original_df_no_otl"
   ]
  },
  {
   "cell_type": "code",
   "execution_count": 49,
   "id": "6f610c53-7470-47a6-8c65-0aaa8de2fb76",
   "metadata": {
    "tags": []
   },
   "outputs": [],
   "source": [
    "y = original_df_no_otl['loan_status']\n",
    "X = original_df_no_otl.drop(['loan_status', 'cb_person_default_on_file', 'Age Group'], axis=1)"
   ]
  },
  {
   "cell_type": "code",
   "execution_count": 50,
   "id": "824f286b-ad53-4e65-a56e-f40913a750a4",
   "metadata": {
    "tags": []
   },
   "outputs": [
    {
     "data": {
      "text/html": [
       "<div>\n",
       "<style scoped>\n",
       "    .dataframe tbody tr th:only-of-type {\n",
       "        vertical-align: middle;\n",
       "    }\n",
       "\n",
       "    .dataframe tbody tr th {\n",
       "        vertical-align: top;\n",
       "    }\n",
       "\n",
       "    .dataframe thead th {\n",
       "        text-align: right;\n",
       "    }\n",
       "</style>\n",
       "<table border=\"1\" class=\"dataframe\">\n",
       "  <thead>\n",
       "    <tr style=\"text-align: right;\">\n",
       "      <th></th>\n",
       "      <th>person_age</th>\n",
       "      <th>person_income</th>\n",
       "      <th>person_home_ownership</th>\n",
       "      <th>person_emp_length</th>\n",
       "      <th>loan_intent</th>\n",
       "      <th>loan_grade</th>\n",
       "      <th>loan_amnt</th>\n",
       "      <th>loan_int_rate</th>\n",
       "      <th>loan_percent_income</th>\n",
       "      <th>cb_person_cred_hist_length</th>\n",
       "    </tr>\n",
       "  </thead>\n",
       "  <tbody>\n",
       "    <tr>\n",
       "      <th>0</th>\n",
       "      <td>21</td>\n",
       "      <td>9600</td>\n",
       "      <td>OWN</td>\n",
       "      <td>5.0</td>\n",
       "      <td>EDUCATION</td>\n",
       "      <td>B</td>\n",
       "      <td>1000</td>\n",
       "      <td>11.14</td>\n",
       "      <td>0.10</td>\n",
       "      <td>2</td>\n",
       "    </tr>\n",
       "    <tr>\n",
       "      <th>1</th>\n",
       "      <td>25</td>\n",
       "      <td>9600</td>\n",
       "      <td>MORTGAGE</td>\n",
       "      <td>1.0</td>\n",
       "      <td>MEDICAL</td>\n",
       "      <td>C</td>\n",
       "      <td>5500</td>\n",
       "      <td>12.87</td>\n",
       "      <td>0.57</td>\n",
       "      <td>3</td>\n",
       "    </tr>\n",
       "    <tr>\n",
       "      <th>2</th>\n",
       "      <td>23</td>\n",
       "      <td>65500</td>\n",
       "      <td>RENT</td>\n",
       "      <td>4.0</td>\n",
       "      <td>MEDICAL</td>\n",
       "      <td>C</td>\n",
       "      <td>35000</td>\n",
       "      <td>15.23</td>\n",
       "      <td>0.53</td>\n",
       "      <td>2</td>\n",
       "    </tr>\n",
       "    <tr>\n",
       "      <th>3</th>\n",
       "      <td>24</td>\n",
       "      <td>54400</td>\n",
       "      <td>RENT</td>\n",
       "      <td>8.0</td>\n",
       "      <td>MEDICAL</td>\n",
       "      <td>C</td>\n",
       "      <td>35000</td>\n",
       "      <td>14.27</td>\n",
       "      <td>0.55</td>\n",
       "      <td>4</td>\n",
       "    </tr>\n",
       "    <tr>\n",
       "      <th>4</th>\n",
       "      <td>21</td>\n",
       "      <td>9900</td>\n",
       "      <td>OWN</td>\n",
       "      <td>2.0</td>\n",
       "      <td>VENTURE</td>\n",
       "      <td>A</td>\n",
       "      <td>2500</td>\n",
       "      <td>7.14</td>\n",
       "      <td>0.25</td>\n",
       "      <td>2</td>\n",
       "    </tr>\n",
       "    <tr>\n",
       "      <th>...</th>\n",
       "      <td>...</td>\n",
       "      <td>...</td>\n",
       "      <td>...</td>\n",
       "      <td>...</td>\n",
       "      <td>...</td>\n",
       "      <td>...</td>\n",
       "      <td>...</td>\n",
       "      <td>...</td>\n",
       "      <td>...</td>\n",
       "      <td>...</td>\n",
       "    </tr>\n",
       "    <tr>\n",
       "      <th>31669</th>\n",
       "      <td>57</td>\n",
       "      <td>53000</td>\n",
       "      <td>MORTGAGE</td>\n",
       "      <td>1.0</td>\n",
       "      <td>PERSONAL</td>\n",
       "      <td>C</td>\n",
       "      <td>5800</td>\n",
       "      <td>13.16</td>\n",
       "      <td>0.11</td>\n",
       "      <td>30</td>\n",
       "    </tr>\n",
       "    <tr>\n",
       "      <th>31670</th>\n",
       "      <td>54</td>\n",
       "      <td>120000</td>\n",
       "      <td>MORTGAGE</td>\n",
       "      <td>4.0</td>\n",
       "      <td>PERSONAL</td>\n",
       "      <td>A</td>\n",
       "      <td>17625</td>\n",
       "      <td>7.49</td>\n",
       "      <td>0.15</td>\n",
       "      <td>19</td>\n",
       "    </tr>\n",
       "    <tr>\n",
       "      <th>31671</th>\n",
       "      <td>65</td>\n",
       "      <td>76000</td>\n",
       "      <td>RENT</td>\n",
       "      <td>3.0</td>\n",
       "      <td>HOMEIMPROVEMENT</td>\n",
       "      <td>B</td>\n",
       "      <td>35000</td>\n",
       "      <td>10.99</td>\n",
       "      <td>0.46</td>\n",
       "      <td>28</td>\n",
       "    </tr>\n",
       "    <tr>\n",
       "      <th>31672</th>\n",
       "      <td>56</td>\n",
       "      <td>150000</td>\n",
       "      <td>MORTGAGE</td>\n",
       "      <td>5.0</td>\n",
       "      <td>PERSONAL</td>\n",
       "      <td>B</td>\n",
       "      <td>15000</td>\n",
       "      <td>11.48</td>\n",
       "      <td>0.10</td>\n",
       "      <td>26</td>\n",
       "    </tr>\n",
       "    <tr>\n",
       "      <th>31673</th>\n",
       "      <td>66</td>\n",
       "      <td>42000</td>\n",
       "      <td>RENT</td>\n",
       "      <td>2.0</td>\n",
       "      <td>MEDICAL</td>\n",
       "      <td>B</td>\n",
       "      <td>6475</td>\n",
       "      <td>9.99</td>\n",
       "      <td>0.15</td>\n",
       "      <td>30</td>\n",
       "    </tr>\n",
       "  </tbody>\n",
       "</table>\n",
       "<p>31674 rows × 10 columns</p>\n",
       "</div>"
      ],
      "text/plain": [
       "       person_age  person_income person_home_ownership  person_emp_length  \\\n",
       "0              21           9600                   OWN                5.0   \n",
       "1              25           9600              MORTGAGE                1.0   \n",
       "2              23          65500                  RENT                4.0   \n",
       "3              24          54400                  RENT                8.0   \n",
       "4              21           9900                   OWN                2.0   \n",
       "...           ...            ...                   ...                ...   \n",
       "31669          57          53000              MORTGAGE                1.0   \n",
       "31670          54         120000              MORTGAGE                4.0   \n",
       "31671          65          76000                  RENT                3.0   \n",
       "31672          56         150000              MORTGAGE                5.0   \n",
       "31673          66          42000                  RENT                2.0   \n",
       "\n",
       "           loan_intent loan_grade  loan_amnt  loan_int_rate  \\\n",
       "0            EDUCATION          B       1000          11.14   \n",
       "1              MEDICAL          C       5500          12.87   \n",
       "2              MEDICAL          C      35000          15.23   \n",
       "3              MEDICAL          C      35000          14.27   \n",
       "4              VENTURE          A       2500           7.14   \n",
       "...                ...        ...        ...            ...   \n",
       "31669         PERSONAL          C       5800          13.16   \n",
       "31670         PERSONAL          A      17625           7.49   \n",
       "31671  HOMEIMPROVEMENT          B      35000          10.99   \n",
       "31672         PERSONAL          B      15000          11.48   \n",
       "31673          MEDICAL          B       6475           9.99   \n",
       "\n",
       "       loan_percent_income  cb_person_cred_hist_length  \n",
       "0                     0.10                           2  \n",
       "1                     0.57                           3  \n",
       "2                     0.53                           2  \n",
       "3                     0.55                           4  \n",
       "4                     0.25                           2  \n",
       "...                    ...                         ...  \n",
       "31669                 0.11                          30  \n",
       "31670                 0.15                          19  \n",
       "31671                 0.46                          28  \n",
       "31672                 0.10                          26  \n",
       "31673                 0.15                          30  \n",
       "\n",
       "[31674 rows x 10 columns]"
      ]
     },
     "execution_count": 50,
     "metadata": {},
     "output_type": "execute_result"
    }
   ],
   "source": [
    "X"
   ]
  },
  {
   "cell_type": "code",
   "execution_count": 51,
   "id": "59eae55b-db57-4b60-8f46-c213d650e1d5",
   "metadata": {
    "tags": []
   },
   "outputs": [
    {
     "data": {
      "text/plain": [
       "0        0\n",
       "1        1\n",
       "2        1\n",
       "3        1\n",
       "4        1\n",
       "        ..\n",
       "31669    0\n",
       "31670    0\n",
       "31671    1\n",
       "31672    0\n",
       "31673    0\n",
       "Name: loan_status, Length: 31674, dtype: int64"
      ]
     },
     "execution_count": 51,
     "metadata": {},
     "output_type": "execute_result"
    }
   ],
   "source": [
    "y"
   ]
  },
  {
   "cell_type": "code",
   "execution_count": 52,
   "id": "7f122c05-96bc-4b76-8723-9e82e51b830f",
   "metadata": {
    "tags": []
   },
   "outputs": [],
   "source": [
    "# Identify categorical columns\n",
    "categorical_cols = X.select_dtypes(include=['object']).columns.tolist()\n",
    "# Identify numerical columns\n",
    "numerical_cols = X.select_dtypes(include=['number']).columns.tolist()\n",
    "\n",
    "\n",
    "# Create a column transformer with OneHotEncoder for categorical variables\n",
    "# and StandardScaler for numerical variables\n",
    "preprocessor = ColumnTransformer(\n",
    "    transformers=[\n",
    "        ('num', StandardScaler(), numerical_cols),\n",
    "        ('cat', OneHotEncoder(), categorical_cols)\n",
    "    ]\n",
    ")\n",
    "\n",
    "# Split data into training and testing sets\n",
    "X_train, X_test, y_train, y_test = train_test_split(X, y, test_size=0.2, random_state=42)\n",
    "\n"
   ]
  },
  {
   "cell_type": "markdown",
   "id": "a154524a-7fb1-453b-8113-edd86b981053",
   "metadata": {},
   "source": [
    "<h3>Logistic Regression</h3>"
   ]
  },
  {
   "cell_type": "code",
   "execution_count": 93,
   "id": "fabefe28-2ca2-4e75-8676-760b9a450a09",
   "metadata": {
    "tags": []
   },
   "outputs": [],
   "source": [
    "# Create a pipeline with the preprocessor and logistic regression model\n",
    "pipeline_lr = Pipeline(steps=[('preprocessor', preprocessor),\n",
    "                           ('classifier', LogisticRegression(solver='newton-cholesky', max_iter=1000))])"
   ]
  },
  {
   "cell_type": "code",
   "execution_count": 94,
   "id": "ed19188d-5955-4285-9b0c-cb0e4f207677",
   "metadata": {},
   "outputs": [
    {
     "data": {
      "text/html": [
       "<style>#sk-container-id-5 {color: black;}#sk-container-id-5 pre{padding: 0;}#sk-container-id-5 div.sk-toggleable {background-color: white;}#sk-container-id-5 label.sk-toggleable__label {cursor: pointer;display: block;width: 100%;margin-bottom: 0;padding: 0.3em;box-sizing: border-box;text-align: center;}#sk-container-id-5 label.sk-toggleable__label-arrow:before {content: \"▸\";float: left;margin-right: 0.25em;color: #696969;}#sk-container-id-5 label.sk-toggleable__label-arrow:hover:before {color: black;}#sk-container-id-5 div.sk-estimator:hover label.sk-toggleable__label-arrow:before {color: black;}#sk-container-id-5 div.sk-toggleable__content {max-height: 0;max-width: 0;overflow: hidden;text-align: left;background-color: #f0f8ff;}#sk-container-id-5 div.sk-toggleable__content pre {margin: 0.2em;color: black;border-radius: 0.25em;background-color: #f0f8ff;}#sk-container-id-5 input.sk-toggleable__control:checked~div.sk-toggleable__content {max-height: 200px;max-width: 100%;overflow: auto;}#sk-container-id-5 input.sk-toggleable__control:checked~label.sk-toggleable__label-arrow:before {content: \"▾\";}#sk-container-id-5 div.sk-estimator input.sk-toggleable__control:checked~label.sk-toggleable__label {background-color: #d4ebff;}#sk-container-id-5 div.sk-label input.sk-toggleable__control:checked~label.sk-toggleable__label {background-color: #d4ebff;}#sk-container-id-5 input.sk-hidden--visually {border: 0;clip: rect(1px 1px 1px 1px);clip: rect(1px, 1px, 1px, 1px);height: 1px;margin: -1px;overflow: hidden;padding: 0;position: absolute;width: 1px;}#sk-container-id-5 div.sk-estimator {font-family: monospace;background-color: #f0f8ff;border: 1px dotted black;border-radius: 0.25em;box-sizing: border-box;margin-bottom: 0.5em;}#sk-container-id-5 div.sk-estimator:hover {background-color: #d4ebff;}#sk-container-id-5 div.sk-parallel-item::after {content: \"\";width: 100%;border-bottom: 1px solid gray;flex-grow: 1;}#sk-container-id-5 div.sk-label:hover label.sk-toggleable__label {background-color: #d4ebff;}#sk-container-id-5 div.sk-serial::before {content: \"\";position: absolute;border-left: 1px solid gray;box-sizing: border-box;top: 0;bottom: 0;left: 50%;z-index: 0;}#sk-container-id-5 div.sk-serial {display: flex;flex-direction: column;align-items: center;background-color: white;padding-right: 0.2em;padding-left: 0.2em;position: relative;}#sk-container-id-5 div.sk-item {position: relative;z-index: 1;}#sk-container-id-5 div.sk-parallel {display: flex;align-items: stretch;justify-content: center;background-color: white;position: relative;}#sk-container-id-5 div.sk-item::before, #sk-container-id-5 div.sk-parallel-item::before {content: \"\";position: absolute;border-left: 1px solid gray;box-sizing: border-box;top: 0;bottom: 0;left: 50%;z-index: -1;}#sk-container-id-5 div.sk-parallel-item {display: flex;flex-direction: column;z-index: 1;position: relative;background-color: white;}#sk-container-id-5 div.sk-parallel-item:first-child::after {align-self: flex-end;width: 50%;}#sk-container-id-5 div.sk-parallel-item:last-child::after {align-self: flex-start;width: 50%;}#sk-container-id-5 div.sk-parallel-item:only-child::after {width: 0;}#sk-container-id-5 div.sk-dashed-wrapped {border: 1px dashed gray;margin: 0 0.4em 0.5em 0.4em;box-sizing: border-box;padding-bottom: 0.4em;background-color: white;}#sk-container-id-5 div.sk-label label {font-family: monospace;font-weight: bold;display: inline-block;line-height: 1.2em;}#sk-container-id-5 div.sk-label-container {text-align: center;}#sk-container-id-5 div.sk-container {/* jupyter's `normalize.less` sets `[hidden] { display: none; }` but bootstrap.min.css set `[hidden] { display: none !important; }` so we also need the `!important` here to be able to override the default hidden behavior on the sphinx rendered scikit-learn.org. See: https://github.com/scikit-learn/scikit-learn/issues/21755 */display: inline-block !important;position: relative;}#sk-container-id-5 div.sk-text-repr-fallback {display: none;}</style><div id=\"sk-container-id-5\" class=\"sk-top-container\"><div class=\"sk-text-repr-fallback\"><pre>Pipeline(steps=[(&#x27;preprocessor&#x27;,\n",
       "                 ColumnTransformer(transformers=[(&#x27;num&#x27;, StandardScaler(),\n",
       "                                                  [&#x27;person_age&#x27;,\n",
       "                                                   &#x27;person_income&#x27;,\n",
       "                                                   &#x27;person_emp_length&#x27;,\n",
       "                                                   &#x27;loan_amnt&#x27;, &#x27;loan_int_rate&#x27;,\n",
       "                                                   &#x27;loan_percent_income&#x27;,\n",
       "                                                   &#x27;cb_person_cred_hist_length&#x27;]),\n",
       "                                                 (&#x27;cat&#x27;, OneHotEncoder(),\n",
       "                                                  [&#x27;person_home_ownership&#x27;,\n",
       "                                                   &#x27;loan_intent&#x27;,\n",
       "                                                   &#x27;loan_grade&#x27;])])),\n",
       "                (&#x27;classifier&#x27;,\n",
       "                 LogisticRegression(max_iter=1000, solver=&#x27;newton-cholesky&#x27;))])</pre><b>In a Jupyter environment, please rerun this cell to show the HTML representation or trust the notebook. <br />On GitHub, the HTML representation is unable to render, please try loading this page with nbviewer.org.</b></div><div class=\"sk-container\" hidden><div class=\"sk-item sk-dashed-wrapped\"><div class=\"sk-label-container\"><div class=\"sk-label sk-toggleable\"><input class=\"sk-toggleable__control sk-hidden--visually\" id=\"sk-estimator-id-29\" type=\"checkbox\" ><label for=\"sk-estimator-id-29\" class=\"sk-toggleable__label sk-toggleable__label-arrow\">Pipeline</label><div class=\"sk-toggleable__content\"><pre>Pipeline(steps=[(&#x27;preprocessor&#x27;,\n",
       "                 ColumnTransformer(transformers=[(&#x27;num&#x27;, StandardScaler(),\n",
       "                                                  [&#x27;person_age&#x27;,\n",
       "                                                   &#x27;person_income&#x27;,\n",
       "                                                   &#x27;person_emp_length&#x27;,\n",
       "                                                   &#x27;loan_amnt&#x27;, &#x27;loan_int_rate&#x27;,\n",
       "                                                   &#x27;loan_percent_income&#x27;,\n",
       "                                                   &#x27;cb_person_cred_hist_length&#x27;]),\n",
       "                                                 (&#x27;cat&#x27;, OneHotEncoder(),\n",
       "                                                  [&#x27;person_home_ownership&#x27;,\n",
       "                                                   &#x27;loan_intent&#x27;,\n",
       "                                                   &#x27;loan_grade&#x27;])])),\n",
       "                (&#x27;classifier&#x27;,\n",
       "                 LogisticRegression(max_iter=1000, solver=&#x27;newton-cholesky&#x27;))])</pre></div></div></div><div class=\"sk-serial\"><div class=\"sk-item sk-dashed-wrapped\"><div class=\"sk-label-container\"><div class=\"sk-label sk-toggleable\"><input class=\"sk-toggleable__control sk-hidden--visually\" id=\"sk-estimator-id-30\" type=\"checkbox\" ><label for=\"sk-estimator-id-30\" class=\"sk-toggleable__label sk-toggleable__label-arrow\">preprocessor: ColumnTransformer</label><div class=\"sk-toggleable__content\"><pre>ColumnTransformer(transformers=[(&#x27;num&#x27;, StandardScaler(),\n",
       "                                 [&#x27;person_age&#x27;, &#x27;person_income&#x27;,\n",
       "                                  &#x27;person_emp_length&#x27;, &#x27;loan_amnt&#x27;,\n",
       "                                  &#x27;loan_int_rate&#x27;, &#x27;loan_percent_income&#x27;,\n",
       "                                  &#x27;cb_person_cred_hist_length&#x27;]),\n",
       "                                (&#x27;cat&#x27;, OneHotEncoder(),\n",
       "                                 [&#x27;person_home_ownership&#x27;, &#x27;loan_intent&#x27;,\n",
       "                                  &#x27;loan_grade&#x27;])])</pre></div></div></div><div class=\"sk-parallel\"><div class=\"sk-parallel-item\"><div class=\"sk-item\"><div class=\"sk-label-container\"><div class=\"sk-label sk-toggleable\"><input class=\"sk-toggleable__control sk-hidden--visually\" id=\"sk-estimator-id-31\" type=\"checkbox\" ><label for=\"sk-estimator-id-31\" class=\"sk-toggleable__label sk-toggleable__label-arrow\">num</label><div class=\"sk-toggleable__content\"><pre>[&#x27;person_age&#x27;, &#x27;person_income&#x27;, &#x27;person_emp_length&#x27;, &#x27;loan_amnt&#x27;, &#x27;loan_int_rate&#x27;, &#x27;loan_percent_income&#x27;, &#x27;cb_person_cred_hist_length&#x27;]</pre></div></div></div><div class=\"sk-serial\"><div class=\"sk-item\"><div class=\"sk-estimator sk-toggleable\"><input class=\"sk-toggleable__control sk-hidden--visually\" id=\"sk-estimator-id-32\" type=\"checkbox\" ><label for=\"sk-estimator-id-32\" class=\"sk-toggleable__label sk-toggleable__label-arrow\">StandardScaler</label><div class=\"sk-toggleable__content\"><pre>StandardScaler()</pre></div></div></div></div></div></div><div class=\"sk-parallel-item\"><div class=\"sk-item\"><div class=\"sk-label-container\"><div class=\"sk-label sk-toggleable\"><input class=\"sk-toggleable__control sk-hidden--visually\" id=\"sk-estimator-id-33\" type=\"checkbox\" ><label for=\"sk-estimator-id-33\" class=\"sk-toggleable__label sk-toggleable__label-arrow\">cat</label><div class=\"sk-toggleable__content\"><pre>[&#x27;person_home_ownership&#x27;, &#x27;loan_intent&#x27;, &#x27;loan_grade&#x27;]</pre></div></div></div><div class=\"sk-serial\"><div class=\"sk-item\"><div class=\"sk-estimator sk-toggleable\"><input class=\"sk-toggleable__control sk-hidden--visually\" id=\"sk-estimator-id-34\" type=\"checkbox\" ><label for=\"sk-estimator-id-34\" class=\"sk-toggleable__label sk-toggleable__label-arrow\">OneHotEncoder</label><div class=\"sk-toggleable__content\"><pre>OneHotEncoder()</pre></div></div></div></div></div></div></div></div><div class=\"sk-item\"><div class=\"sk-estimator sk-toggleable\"><input class=\"sk-toggleable__control sk-hidden--visually\" id=\"sk-estimator-id-35\" type=\"checkbox\" ><label for=\"sk-estimator-id-35\" class=\"sk-toggleable__label sk-toggleable__label-arrow\">LogisticRegression</label><div class=\"sk-toggleable__content\"><pre>LogisticRegression(max_iter=1000, solver=&#x27;newton-cholesky&#x27;)</pre></div></div></div></div></div></div></div>"
      ],
      "text/plain": [
       "Pipeline(steps=[('preprocessor',\n",
       "                 ColumnTransformer(transformers=[('num', StandardScaler(),\n",
       "                                                  ['person_age',\n",
       "                                                   'person_income',\n",
       "                                                   'person_emp_length',\n",
       "                                                   'loan_amnt', 'loan_int_rate',\n",
       "                                                   'loan_percent_income',\n",
       "                                                   'cb_person_cred_hist_length']),\n",
       "                                                 ('cat', OneHotEncoder(),\n",
       "                                                  ['person_home_ownership',\n",
       "                                                   'loan_intent',\n",
       "                                                   'loan_grade'])])),\n",
       "                ('classifier',\n",
       "                 LogisticRegression(max_iter=1000, solver='newton-cholesky'))])"
      ]
     },
     "execution_count": 94,
     "metadata": {},
     "output_type": "execute_result"
    }
   ],
   "source": [
    "# Fit the pipeline on the training data\n",
    "pipeline_lr.fit(X_train, y_train)"
   ]
  },
  {
   "cell_type": "code",
   "execution_count": 95,
   "id": "252abf84-2d33-4851-a76b-4757d5d3e24f",
   "metadata": {
    "tags": []
   },
   "outputs": [],
   "source": [
    "from sklearn.model_selection import cross_val_predict\n",
    "\n",
    "cross_val_predict_lr = cross_val_predict(pipeline_lr, X_train, y_train, cv=10)"
   ]
  },
  {
   "cell_type": "code",
   "execution_count": 96,
   "id": "0fe8de6e-b65a-4d74-acd3-b34d73c2e54e",
   "metadata": {
    "tags": []
   },
   "outputs": [
    {
     "data": {
      "text/plain": [
       "array([[18909,   946],\n",
       "       [ 2430,  3054]], dtype=int64)"
      ]
     },
     "execution_count": 96,
     "metadata": {},
     "output_type": "execute_result"
    }
   ],
   "source": [
    "confusion_matrix_lr = confusion_matrix(y_train, cross_val_predict_lr)\n",
    "confusion_matrix_lr"
   ]
  },
  {
   "cell_type": "code",
   "execution_count": 97,
   "id": "0537a915-dbb9-4b65-871f-d64804f4085b",
   "metadata": {
    "tags": []
   },
   "outputs": [
    {
     "name": "stdout",
     "output_type": "stream",
     "text": [
      "Precision 0.7635 \n",
      " Recall 0.5568927789934355\n"
     ]
    }
   ],
   "source": [
    "precision_score_lr = precision_score(y_train, cross_val_predict_lr)\n",
    "recall_score_lr = recall_score(y_train, cross_val_predict_lr)\n",
    "print(\"Precision \" + precision_score_lr.astype(str), \"\\n\", \"Recall \" + recall_score_lr.astype(str))"
   ]
  },
  {
   "cell_type": "markdown",
   "id": "e6396a77-ef1c-4546-bf49-bd86ca0789a2",
   "metadata": {},
   "source": [
    "<h3>Random Forest Classifier</h3>"
   ]
  },
  {
   "cell_type": "code",
   "execution_count": 69,
   "id": "0af05e72-4be3-4843-b521-e1392c4b73ee",
   "metadata": {
    "tags": []
   },
   "outputs": [],
   "source": [
    "# Create a pipeline with the preprocessor and logistic regression model\n",
    "pipeline_rf = Pipeline(steps=[('preprocessor', preprocessor),\n",
    "                           ('classifier', RandomForestClassifier(max_depth=30, min_samples_leaf=1, min_samples_split=2,random_state=42))])"
   ]
  },
  {
   "cell_type": "code",
   "execution_count": 70,
   "id": "63802f13-812a-4866-b781-aad85a4b9c87",
   "metadata": {
    "tags": []
   },
   "outputs": [
    {
     "data": {
      "text/html": [
       "<style>#sk-container-id-4 {color: black;}#sk-container-id-4 pre{padding: 0;}#sk-container-id-4 div.sk-toggleable {background-color: white;}#sk-container-id-4 label.sk-toggleable__label {cursor: pointer;display: block;width: 100%;margin-bottom: 0;padding: 0.3em;box-sizing: border-box;text-align: center;}#sk-container-id-4 label.sk-toggleable__label-arrow:before {content: \"▸\";float: left;margin-right: 0.25em;color: #696969;}#sk-container-id-4 label.sk-toggleable__label-arrow:hover:before {color: black;}#sk-container-id-4 div.sk-estimator:hover label.sk-toggleable__label-arrow:before {color: black;}#sk-container-id-4 div.sk-toggleable__content {max-height: 0;max-width: 0;overflow: hidden;text-align: left;background-color: #f0f8ff;}#sk-container-id-4 div.sk-toggleable__content pre {margin: 0.2em;color: black;border-radius: 0.25em;background-color: #f0f8ff;}#sk-container-id-4 input.sk-toggleable__control:checked~div.sk-toggleable__content {max-height: 200px;max-width: 100%;overflow: auto;}#sk-container-id-4 input.sk-toggleable__control:checked~label.sk-toggleable__label-arrow:before {content: \"▾\";}#sk-container-id-4 div.sk-estimator input.sk-toggleable__control:checked~label.sk-toggleable__label {background-color: #d4ebff;}#sk-container-id-4 div.sk-label input.sk-toggleable__control:checked~label.sk-toggleable__label {background-color: #d4ebff;}#sk-container-id-4 input.sk-hidden--visually {border: 0;clip: rect(1px 1px 1px 1px);clip: rect(1px, 1px, 1px, 1px);height: 1px;margin: -1px;overflow: hidden;padding: 0;position: absolute;width: 1px;}#sk-container-id-4 div.sk-estimator {font-family: monospace;background-color: #f0f8ff;border: 1px dotted black;border-radius: 0.25em;box-sizing: border-box;margin-bottom: 0.5em;}#sk-container-id-4 div.sk-estimator:hover {background-color: #d4ebff;}#sk-container-id-4 div.sk-parallel-item::after {content: \"\";width: 100%;border-bottom: 1px solid gray;flex-grow: 1;}#sk-container-id-4 div.sk-label:hover label.sk-toggleable__label {background-color: #d4ebff;}#sk-container-id-4 div.sk-serial::before {content: \"\";position: absolute;border-left: 1px solid gray;box-sizing: border-box;top: 0;bottom: 0;left: 50%;z-index: 0;}#sk-container-id-4 div.sk-serial {display: flex;flex-direction: column;align-items: center;background-color: white;padding-right: 0.2em;padding-left: 0.2em;position: relative;}#sk-container-id-4 div.sk-item {position: relative;z-index: 1;}#sk-container-id-4 div.sk-parallel {display: flex;align-items: stretch;justify-content: center;background-color: white;position: relative;}#sk-container-id-4 div.sk-item::before, #sk-container-id-4 div.sk-parallel-item::before {content: \"\";position: absolute;border-left: 1px solid gray;box-sizing: border-box;top: 0;bottom: 0;left: 50%;z-index: -1;}#sk-container-id-4 div.sk-parallel-item {display: flex;flex-direction: column;z-index: 1;position: relative;background-color: white;}#sk-container-id-4 div.sk-parallel-item:first-child::after {align-self: flex-end;width: 50%;}#sk-container-id-4 div.sk-parallel-item:last-child::after {align-self: flex-start;width: 50%;}#sk-container-id-4 div.sk-parallel-item:only-child::after {width: 0;}#sk-container-id-4 div.sk-dashed-wrapped {border: 1px dashed gray;margin: 0 0.4em 0.5em 0.4em;box-sizing: border-box;padding-bottom: 0.4em;background-color: white;}#sk-container-id-4 div.sk-label label {font-family: monospace;font-weight: bold;display: inline-block;line-height: 1.2em;}#sk-container-id-4 div.sk-label-container {text-align: center;}#sk-container-id-4 div.sk-container {/* jupyter's `normalize.less` sets `[hidden] { display: none; }` but bootstrap.min.css set `[hidden] { display: none !important; }` so we also need the `!important` here to be able to override the default hidden behavior on the sphinx rendered scikit-learn.org. See: https://github.com/scikit-learn/scikit-learn/issues/21755 */display: inline-block !important;position: relative;}#sk-container-id-4 div.sk-text-repr-fallback {display: none;}</style><div id=\"sk-container-id-4\" class=\"sk-top-container\"><div class=\"sk-text-repr-fallback\"><pre>Pipeline(steps=[(&#x27;preprocessor&#x27;,\n",
       "                 ColumnTransformer(transformers=[(&#x27;num&#x27;, StandardScaler(),\n",
       "                                                  [&#x27;person_age&#x27;,\n",
       "                                                   &#x27;person_income&#x27;,\n",
       "                                                   &#x27;person_emp_length&#x27;,\n",
       "                                                   &#x27;loan_amnt&#x27;, &#x27;loan_int_rate&#x27;,\n",
       "                                                   &#x27;loan_percent_income&#x27;,\n",
       "                                                   &#x27;cb_person_cred_hist_length&#x27;]),\n",
       "                                                 (&#x27;cat&#x27;, OneHotEncoder(),\n",
       "                                                  [&#x27;person_home_ownership&#x27;,\n",
       "                                                   &#x27;loan_intent&#x27;,\n",
       "                                                   &#x27;loan_grade&#x27;])])),\n",
       "                (&#x27;classifier&#x27;,\n",
       "                 RandomForestClassifier(max_depth=30, random_state=42))])</pre><b>In a Jupyter environment, please rerun this cell to show the HTML representation or trust the notebook. <br />On GitHub, the HTML representation is unable to render, please try loading this page with nbviewer.org.</b></div><div class=\"sk-container\" hidden><div class=\"sk-item sk-dashed-wrapped\"><div class=\"sk-label-container\"><div class=\"sk-label sk-toggleable\"><input class=\"sk-toggleable__control sk-hidden--visually\" id=\"sk-estimator-id-22\" type=\"checkbox\" ><label for=\"sk-estimator-id-22\" class=\"sk-toggleable__label sk-toggleable__label-arrow\">Pipeline</label><div class=\"sk-toggleable__content\"><pre>Pipeline(steps=[(&#x27;preprocessor&#x27;,\n",
       "                 ColumnTransformer(transformers=[(&#x27;num&#x27;, StandardScaler(),\n",
       "                                                  [&#x27;person_age&#x27;,\n",
       "                                                   &#x27;person_income&#x27;,\n",
       "                                                   &#x27;person_emp_length&#x27;,\n",
       "                                                   &#x27;loan_amnt&#x27;, &#x27;loan_int_rate&#x27;,\n",
       "                                                   &#x27;loan_percent_income&#x27;,\n",
       "                                                   &#x27;cb_person_cred_hist_length&#x27;]),\n",
       "                                                 (&#x27;cat&#x27;, OneHotEncoder(),\n",
       "                                                  [&#x27;person_home_ownership&#x27;,\n",
       "                                                   &#x27;loan_intent&#x27;,\n",
       "                                                   &#x27;loan_grade&#x27;])])),\n",
       "                (&#x27;classifier&#x27;,\n",
       "                 RandomForestClassifier(max_depth=30, random_state=42))])</pre></div></div></div><div class=\"sk-serial\"><div class=\"sk-item sk-dashed-wrapped\"><div class=\"sk-label-container\"><div class=\"sk-label sk-toggleable\"><input class=\"sk-toggleable__control sk-hidden--visually\" id=\"sk-estimator-id-23\" type=\"checkbox\" ><label for=\"sk-estimator-id-23\" class=\"sk-toggleable__label sk-toggleable__label-arrow\">preprocessor: ColumnTransformer</label><div class=\"sk-toggleable__content\"><pre>ColumnTransformer(transformers=[(&#x27;num&#x27;, StandardScaler(),\n",
       "                                 [&#x27;person_age&#x27;, &#x27;person_income&#x27;,\n",
       "                                  &#x27;person_emp_length&#x27;, &#x27;loan_amnt&#x27;,\n",
       "                                  &#x27;loan_int_rate&#x27;, &#x27;loan_percent_income&#x27;,\n",
       "                                  &#x27;cb_person_cred_hist_length&#x27;]),\n",
       "                                (&#x27;cat&#x27;, OneHotEncoder(),\n",
       "                                 [&#x27;person_home_ownership&#x27;, &#x27;loan_intent&#x27;,\n",
       "                                  &#x27;loan_grade&#x27;])])</pre></div></div></div><div class=\"sk-parallel\"><div class=\"sk-parallel-item\"><div class=\"sk-item\"><div class=\"sk-label-container\"><div class=\"sk-label sk-toggleable\"><input class=\"sk-toggleable__control sk-hidden--visually\" id=\"sk-estimator-id-24\" type=\"checkbox\" ><label for=\"sk-estimator-id-24\" class=\"sk-toggleable__label sk-toggleable__label-arrow\">num</label><div class=\"sk-toggleable__content\"><pre>[&#x27;person_age&#x27;, &#x27;person_income&#x27;, &#x27;person_emp_length&#x27;, &#x27;loan_amnt&#x27;, &#x27;loan_int_rate&#x27;, &#x27;loan_percent_income&#x27;, &#x27;cb_person_cred_hist_length&#x27;]</pre></div></div></div><div class=\"sk-serial\"><div class=\"sk-item\"><div class=\"sk-estimator sk-toggleable\"><input class=\"sk-toggleable__control sk-hidden--visually\" id=\"sk-estimator-id-25\" type=\"checkbox\" ><label for=\"sk-estimator-id-25\" class=\"sk-toggleable__label sk-toggleable__label-arrow\">StandardScaler</label><div class=\"sk-toggleable__content\"><pre>StandardScaler()</pre></div></div></div></div></div></div><div class=\"sk-parallel-item\"><div class=\"sk-item\"><div class=\"sk-label-container\"><div class=\"sk-label sk-toggleable\"><input class=\"sk-toggleable__control sk-hidden--visually\" id=\"sk-estimator-id-26\" type=\"checkbox\" ><label for=\"sk-estimator-id-26\" class=\"sk-toggleable__label sk-toggleable__label-arrow\">cat</label><div class=\"sk-toggleable__content\"><pre>[&#x27;person_home_ownership&#x27;, &#x27;loan_intent&#x27;, &#x27;loan_grade&#x27;]</pre></div></div></div><div class=\"sk-serial\"><div class=\"sk-item\"><div class=\"sk-estimator sk-toggleable\"><input class=\"sk-toggleable__control sk-hidden--visually\" id=\"sk-estimator-id-27\" type=\"checkbox\" ><label for=\"sk-estimator-id-27\" class=\"sk-toggleable__label sk-toggleable__label-arrow\">OneHotEncoder</label><div class=\"sk-toggleable__content\"><pre>OneHotEncoder()</pre></div></div></div></div></div></div></div></div><div class=\"sk-item\"><div class=\"sk-estimator sk-toggleable\"><input class=\"sk-toggleable__control sk-hidden--visually\" id=\"sk-estimator-id-28\" type=\"checkbox\" ><label for=\"sk-estimator-id-28\" class=\"sk-toggleable__label sk-toggleable__label-arrow\">RandomForestClassifier</label><div class=\"sk-toggleable__content\"><pre>RandomForestClassifier(max_depth=30, random_state=42)</pre></div></div></div></div></div></div></div>"
      ],
      "text/plain": [
       "Pipeline(steps=[('preprocessor',\n",
       "                 ColumnTransformer(transformers=[('num', StandardScaler(),\n",
       "                                                  ['person_age',\n",
       "                                                   'person_income',\n",
       "                                                   'person_emp_length',\n",
       "                                                   'loan_amnt', 'loan_int_rate',\n",
       "                                                   'loan_percent_income',\n",
       "                                                   'cb_person_cred_hist_length']),\n",
       "                                                 ('cat', OneHotEncoder(),\n",
       "                                                  ['person_home_ownership',\n",
       "                                                   'loan_intent',\n",
       "                                                   'loan_grade'])])),\n",
       "                ('classifier',\n",
       "                 RandomForestClassifier(max_depth=30, random_state=42))])"
      ]
     },
     "execution_count": 70,
     "metadata": {},
     "output_type": "execute_result"
    }
   ],
   "source": [
    "# Fit the pipeline on the training data\n",
    "pipeline_rf.fit(X_train, y_train)"
   ]
  },
  {
   "cell_type": "code",
   "execution_count": 71,
   "id": "918ea358-2420-42db-ab59-1851107638dd",
   "metadata": {
    "tags": []
   },
   "outputs": [],
   "source": [
    "cross_val_predict_rf = cross_val_predict(pipeline_rf, X_train, y_train, cv=3)"
   ]
  },
  {
   "cell_type": "code",
   "execution_count": 72,
   "id": "fda5164c-0d9d-403c-a2f4-2d2388995cfd",
   "metadata": {
    "tags": []
   },
   "outputs": [
    {
     "data": {
      "text/plain": [
       "array([[19714,   141],\n",
       "       [ 1514,  3970]], dtype=int64)"
      ]
     },
     "execution_count": 72,
     "metadata": {},
     "output_type": "execute_result"
    }
   ],
   "source": [
    "confusion_matrix_rf = confusion_matrix(y_train, cross_val_predict_rf)\n",
    "confusion_matrix_rf"
   ]
  },
  {
   "cell_type": "code",
   "execution_count": 73,
   "id": "13b37053-eeb4-4ccb-8768-d474d2774a17",
   "metadata": {
    "tags": []
   },
   "outputs": [
    {
     "name": "stdout",
     "output_type": "stream",
     "text": [
      "Precision 0.9657017757236682 \n",
      " Recall 0.7239241429613421\n"
     ]
    }
   ],
   "source": [
    "precision_score_rf = precision_score(y_train, cross_val_predict_rf)\n",
    "recall_score_rf = recall_score(y_train, cross_val_predict_rf)\n",
    "print(\"Precision \" + precision_score_rf.astype(str), \"\\n\", \"Recall \" + recall_score_rf.astype(str))"
   ]
  },
  {
   "cell_type": "markdown",
   "id": "42b75d31-84d9-4bc0-9192-bfb1690f9d88",
   "metadata": {},
   "source": [
    "<h3>SGD classifier</h3>"
   ]
  },
  {
   "cell_type": "code",
   "execution_count": 104,
   "id": "7a181259-d76e-4b20-99fd-10d31a0750ac",
   "metadata": {
    "tags": []
   },
   "outputs": [],
   "source": [
    "# Create a pipeline with the preprocessor and logistic regression model\n",
    "pipeline_sgd = Pipeline(steps=[('preprocessor', preprocessor),\n",
    "                           ('classifier', SGDClassifier(loss='log_loss',random_state=42))])"
   ]
  },
  {
   "cell_type": "code",
   "execution_count": 105,
   "id": "65d1a167-658a-4c4c-8441-5aec9acf51dc",
   "metadata": {
    "tags": []
   },
   "outputs": [
    {
     "data": {
      "text/html": [
       "<style>#sk-container-id-6 {color: black;}#sk-container-id-6 pre{padding: 0;}#sk-container-id-6 div.sk-toggleable {background-color: white;}#sk-container-id-6 label.sk-toggleable__label {cursor: pointer;display: block;width: 100%;margin-bottom: 0;padding: 0.3em;box-sizing: border-box;text-align: center;}#sk-container-id-6 label.sk-toggleable__label-arrow:before {content: \"▸\";float: left;margin-right: 0.25em;color: #696969;}#sk-container-id-6 label.sk-toggleable__label-arrow:hover:before {color: black;}#sk-container-id-6 div.sk-estimator:hover label.sk-toggleable__label-arrow:before {color: black;}#sk-container-id-6 div.sk-toggleable__content {max-height: 0;max-width: 0;overflow: hidden;text-align: left;background-color: #f0f8ff;}#sk-container-id-6 div.sk-toggleable__content pre {margin: 0.2em;color: black;border-radius: 0.25em;background-color: #f0f8ff;}#sk-container-id-6 input.sk-toggleable__control:checked~div.sk-toggleable__content {max-height: 200px;max-width: 100%;overflow: auto;}#sk-container-id-6 input.sk-toggleable__control:checked~label.sk-toggleable__label-arrow:before {content: \"▾\";}#sk-container-id-6 div.sk-estimator input.sk-toggleable__control:checked~label.sk-toggleable__label {background-color: #d4ebff;}#sk-container-id-6 div.sk-label input.sk-toggleable__control:checked~label.sk-toggleable__label {background-color: #d4ebff;}#sk-container-id-6 input.sk-hidden--visually {border: 0;clip: rect(1px 1px 1px 1px);clip: rect(1px, 1px, 1px, 1px);height: 1px;margin: -1px;overflow: hidden;padding: 0;position: absolute;width: 1px;}#sk-container-id-6 div.sk-estimator {font-family: monospace;background-color: #f0f8ff;border: 1px dotted black;border-radius: 0.25em;box-sizing: border-box;margin-bottom: 0.5em;}#sk-container-id-6 div.sk-estimator:hover {background-color: #d4ebff;}#sk-container-id-6 div.sk-parallel-item::after {content: \"\";width: 100%;border-bottom: 1px solid gray;flex-grow: 1;}#sk-container-id-6 div.sk-label:hover label.sk-toggleable__label {background-color: #d4ebff;}#sk-container-id-6 div.sk-serial::before {content: \"\";position: absolute;border-left: 1px solid gray;box-sizing: border-box;top: 0;bottom: 0;left: 50%;z-index: 0;}#sk-container-id-6 div.sk-serial {display: flex;flex-direction: column;align-items: center;background-color: white;padding-right: 0.2em;padding-left: 0.2em;position: relative;}#sk-container-id-6 div.sk-item {position: relative;z-index: 1;}#sk-container-id-6 div.sk-parallel {display: flex;align-items: stretch;justify-content: center;background-color: white;position: relative;}#sk-container-id-6 div.sk-item::before, #sk-container-id-6 div.sk-parallel-item::before {content: \"\";position: absolute;border-left: 1px solid gray;box-sizing: border-box;top: 0;bottom: 0;left: 50%;z-index: -1;}#sk-container-id-6 div.sk-parallel-item {display: flex;flex-direction: column;z-index: 1;position: relative;background-color: white;}#sk-container-id-6 div.sk-parallel-item:first-child::after {align-self: flex-end;width: 50%;}#sk-container-id-6 div.sk-parallel-item:last-child::after {align-self: flex-start;width: 50%;}#sk-container-id-6 div.sk-parallel-item:only-child::after {width: 0;}#sk-container-id-6 div.sk-dashed-wrapped {border: 1px dashed gray;margin: 0 0.4em 0.5em 0.4em;box-sizing: border-box;padding-bottom: 0.4em;background-color: white;}#sk-container-id-6 div.sk-label label {font-family: monospace;font-weight: bold;display: inline-block;line-height: 1.2em;}#sk-container-id-6 div.sk-label-container {text-align: center;}#sk-container-id-6 div.sk-container {/* jupyter's `normalize.less` sets `[hidden] { display: none; }` but bootstrap.min.css set `[hidden] { display: none !important; }` so we also need the `!important` here to be able to override the default hidden behavior on the sphinx rendered scikit-learn.org. See: https://github.com/scikit-learn/scikit-learn/issues/21755 */display: inline-block !important;position: relative;}#sk-container-id-6 div.sk-text-repr-fallback {display: none;}</style><div id=\"sk-container-id-6\" class=\"sk-top-container\"><div class=\"sk-text-repr-fallback\"><pre>Pipeline(steps=[(&#x27;preprocessor&#x27;,\n",
       "                 ColumnTransformer(transformers=[(&#x27;num&#x27;, StandardScaler(),\n",
       "                                                  [&#x27;person_age&#x27;,\n",
       "                                                   &#x27;person_income&#x27;,\n",
       "                                                   &#x27;person_emp_length&#x27;,\n",
       "                                                   &#x27;loan_amnt&#x27;, &#x27;loan_int_rate&#x27;,\n",
       "                                                   &#x27;loan_percent_income&#x27;,\n",
       "                                                   &#x27;cb_person_cred_hist_length&#x27;]),\n",
       "                                                 (&#x27;cat&#x27;, OneHotEncoder(),\n",
       "                                                  [&#x27;person_home_ownership&#x27;,\n",
       "                                                   &#x27;loan_intent&#x27;,\n",
       "                                                   &#x27;loan_grade&#x27;])])),\n",
       "                (&#x27;classifier&#x27;,\n",
       "                 SGDClassifier(loss=&#x27;log_loss&#x27;, random_state=42))])</pre><b>In a Jupyter environment, please rerun this cell to show the HTML representation or trust the notebook. <br />On GitHub, the HTML representation is unable to render, please try loading this page with nbviewer.org.</b></div><div class=\"sk-container\" hidden><div class=\"sk-item sk-dashed-wrapped\"><div class=\"sk-label-container\"><div class=\"sk-label sk-toggleable\"><input class=\"sk-toggleable__control sk-hidden--visually\" id=\"sk-estimator-id-36\" type=\"checkbox\" ><label for=\"sk-estimator-id-36\" class=\"sk-toggleable__label sk-toggleable__label-arrow\">Pipeline</label><div class=\"sk-toggleable__content\"><pre>Pipeline(steps=[(&#x27;preprocessor&#x27;,\n",
       "                 ColumnTransformer(transformers=[(&#x27;num&#x27;, StandardScaler(),\n",
       "                                                  [&#x27;person_age&#x27;,\n",
       "                                                   &#x27;person_income&#x27;,\n",
       "                                                   &#x27;person_emp_length&#x27;,\n",
       "                                                   &#x27;loan_amnt&#x27;, &#x27;loan_int_rate&#x27;,\n",
       "                                                   &#x27;loan_percent_income&#x27;,\n",
       "                                                   &#x27;cb_person_cred_hist_length&#x27;]),\n",
       "                                                 (&#x27;cat&#x27;, OneHotEncoder(),\n",
       "                                                  [&#x27;person_home_ownership&#x27;,\n",
       "                                                   &#x27;loan_intent&#x27;,\n",
       "                                                   &#x27;loan_grade&#x27;])])),\n",
       "                (&#x27;classifier&#x27;,\n",
       "                 SGDClassifier(loss=&#x27;log_loss&#x27;, random_state=42))])</pre></div></div></div><div class=\"sk-serial\"><div class=\"sk-item sk-dashed-wrapped\"><div class=\"sk-label-container\"><div class=\"sk-label sk-toggleable\"><input class=\"sk-toggleable__control sk-hidden--visually\" id=\"sk-estimator-id-37\" type=\"checkbox\" ><label for=\"sk-estimator-id-37\" class=\"sk-toggleable__label sk-toggleable__label-arrow\">preprocessor: ColumnTransformer</label><div class=\"sk-toggleable__content\"><pre>ColumnTransformer(transformers=[(&#x27;num&#x27;, StandardScaler(),\n",
       "                                 [&#x27;person_age&#x27;, &#x27;person_income&#x27;,\n",
       "                                  &#x27;person_emp_length&#x27;, &#x27;loan_amnt&#x27;,\n",
       "                                  &#x27;loan_int_rate&#x27;, &#x27;loan_percent_income&#x27;,\n",
       "                                  &#x27;cb_person_cred_hist_length&#x27;]),\n",
       "                                (&#x27;cat&#x27;, OneHotEncoder(),\n",
       "                                 [&#x27;person_home_ownership&#x27;, &#x27;loan_intent&#x27;,\n",
       "                                  &#x27;loan_grade&#x27;])])</pre></div></div></div><div class=\"sk-parallel\"><div class=\"sk-parallel-item\"><div class=\"sk-item\"><div class=\"sk-label-container\"><div class=\"sk-label sk-toggleable\"><input class=\"sk-toggleable__control sk-hidden--visually\" id=\"sk-estimator-id-38\" type=\"checkbox\" ><label for=\"sk-estimator-id-38\" class=\"sk-toggleable__label sk-toggleable__label-arrow\">num</label><div class=\"sk-toggleable__content\"><pre>[&#x27;person_age&#x27;, &#x27;person_income&#x27;, &#x27;person_emp_length&#x27;, &#x27;loan_amnt&#x27;, &#x27;loan_int_rate&#x27;, &#x27;loan_percent_income&#x27;, &#x27;cb_person_cred_hist_length&#x27;]</pre></div></div></div><div class=\"sk-serial\"><div class=\"sk-item\"><div class=\"sk-estimator sk-toggleable\"><input class=\"sk-toggleable__control sk-hidden--visually\" id=\"sk-estimator-id-39\" type=\"checkbox\" ><label for=\"sk-estimator-id-39\" class=\"sk-toggleable__label sk-toggleable__label-arrow\">StandardScaler</label><div class=\"sk-toggleable__content\"><pre>StandardScaler()</pre></div></div></div></div></div></div><div class=\"sk-parallel-item\"><div class=\"sk-item\"><div class=\"sk-label-container\"><div class=\"sk-label sk-toggleable\"><input class=\"sk-toggleable__control sk-hidden--visually\" id=\"sk-estimator-id-40\" type=\"checkbox\" ><label for=\"sk-estimator-id-40\" class=\"sk-toggleable__label sk-toggleable__label-arrow\">cat</label><div class=\"sk-toggleable__content\"><pre>[&#x27;person_home_ownership&#x27;, &#x27;loan_intent&#x27;, &#x27;loan_grade&#x27;]</pre></div></div></div><div class=\"sk-serial\"><div class=\"sk-item\"><div class=\"sk-estimator sk-toggleable\"><input class=\"sk-toggleable__control sk-hidden--visually\" id=\"sk-estimator-id-41\" type=\"checkbox\" ><label for=\"sk-estimator-id-41\" class=\"sk-toggleable__label sk-toggleable__label-arrow\">OneHotEncoder</label><div class=\"sk-toggleable__content\"><pre>OneHotEncoder()</pre></div></div></div></div></div></div></div></div><div class=\"sk-item\"><div class=\"sk-estimator sk-toggleable\"><input class=\"sk-toggleable__control sk-hidden--visually\" id=\"sk-estimator-id-42\" type=\"checkbox\" ><label for=\"sk-estimator-id-42\" class=\"sk-toggleable__label sk-toggleable__label-arrow\">SGDClassifier</label><div class=\"sk-toggleable__content\"><pre>SGDClassifier(loss=&#x27;log_loss&#x27;, random_state=42)</pre></div></div></div></div></div></div></div>"
      ],
      "text/plain": [
       "Pipeline(steps=[('preprocessor',\n",
       "                 ColumnTransformer(transformers=[('num', StandardScaler(),\n",
       "                                                  ['person_age',\n",
       "                                                   'person_income',\n",
       "                                                   'person_emp_length',\n",
       "                                                   'loan_amnt', 'loan_int_rate',\n",
       "                                                   'loan_percent_income',\n",
       "                                                   'cb_person_cred_hist_length']),\n",
       "                                                 ('cat', OneHotEncoder(),\n",
       "                                                  ['person_home_ownership',\n",
       "                                                   'loan_intent',\n",
       "                                                   'loan_grade'])])),\n",
       "                ('classifier',\n",
       "                 SGDClassifier(loss='log_loss', random_state=42))])"
      ]
     },
     "execution_count": 105,
     "metadata": {},
     "output_type": "execute_result"
    }
   ],
   "source": [
    "# Fit the pipeline on the training data\n",
    "pipeline_sgd.fit(X_train, y_train)"
   ]
  },
  {
   "cell_type": "code",
   "execution_count": 106,
   "id": "fc9a31f3-8e77-4838-8b8c-98f019dbd07e",
   "metadata": {
    "tags": []
   },
   "outputs": [],
   "source": [
    "cross_val_predict_sgd = cross_val_predict(pipeline_sgd, X_train, y_train, cv=3)"
   ]
  },
  {
   "cell_type": "code",
   "execution_count": 107,
   "id": "b5d22b33-d6ef-4366-904a-01842a74be1e",
   "metadata": {
    "tags": []
   },
   "outputs": [
    {
     "data": {
      "text/plain": [
       "array([[18898,   957],\n",
       "       [ 2538,  2946]], dtype=int64)"
      ]
     },
     "execution_count": 107,
     "metadata": {},
     "output_type": "execute_result"
    }
   ],
   "source": [
    "confusion_matrix_sgd = confusion_matrix(y_train, cross_val_predict_sgd)\n",
    "confusion_matrix_sgd"
   ]
  },
  {
   "cell_type": "code",
   "execution_count": 108,
   "id": "4ccb3746-3c06-4688-9125-24dd584be1ef",
   "metadata": {
    "tags": []
   },
   "outputs": [
    {
     "name": "stdout",
     "output_type": "stream",
     "text": [
      "Precision 0.754803996925442 \n",
      " Recall 0.537199124726477\n"
     ]
    }
   ],
   "source": [
    "precision_score_sgd = precision_score(y_train, cross_val_predict_sgd)\n",
    "recall_score_sgd = recall_score(y_train, cross_val_predict_sgd)\n",
    "print(\"Precision \" + precision_score_sgd.astype(str), \"\\n\", \"Recall \" + recall_score_sgd.astype(str))"
   ]
  },
  {
   "cell_type": "markdown",
   "id": "0fbde76e-bc76-413f-b109-23f0f89a91ae",
   "metadata": {},
   "source": [
    "<h3>Hyperparameter Tuning</h3>"
   ]
  },
  {
   "cell_type": "markdown",
   "id": "bc60cef2-01e4-45d8-9431-34c9284f7255",
   "metadata": {},
   "source": [
    "Since Random Forest is performing well, let's see if we can tweak parameters further:\n",
    "\n"
   ]
  },
  {
   "cell_type": "code",
   "execution_count": 68,
   "id": "e9ba6b3c-f632-4f8e-a919-7a4ce426394a",
   "metadata": {
    "tags": []
   },
   "outputs": [
    {
     "name": "stdout",
     "output_type": "stream",
     "text": [
      "Fitting 2 folds for each of 36 candidates, totalling 72 fits\n",
      "Best parameters: {'classifier__max_depth': 30, 'classifier__min_samples_leaf': 1, 'classifier__min_samples_split': 2}\n",
      "Best cross-validation score: 0.9341725537660585\n"
     ]
    }
   ],
   "source": [
    "# Define the parameter grid for RandomForestClassifier\n",
    "param_grid = {\n",
    "    'classifier__max_depth': [None, 10, 20, 30],  # Maximum depth of the tree\n",
    "    'classifier__min_samples_split': [2, 5, 10],  # Minimum number of samples required to split a node\n",
    "    'classifier__min_samples_leaf': [1, 2, 4]  # Minimum number of samples required at each leaf node\n",
    "    # Add other hyperparameters here\n",
    "}\n",
    "\n",
    "# Create a GridSearchCV object\n",
    "grid_search = GridSearchCV(pipeline_rf, param_grid, cv=2, verbose=1, n_jobs=-1)\n",
    "\n",
    "# Fit the GridSearchCV object to the training data\n",
    "grid_search.fit(X_train, y_train)\n",
    "\n",
    "# Print the best parameters and the best score\n",
    "print(\"Best parameters:\", grid_search.best_params_)\n",
    "print(\"Best cross-validation score:\", grid_search.best_score_)\n",
    "\n",
    "# You can now use grid_search to make predictions with the best found parameters\n",
    "# predictions = grid_search.predict(X_test)\n"
   ]
  },
  {
   "cell_type": "code",
   "execution_count": 84,
   "id": "c3bd31a3-ae72-4751-aee0-4580f71087c1",
   "metadata": {
    "tags": []
   },
   "outputs": [],
   "source": [
    "y_probas_forest = cross_val_predict(pipeline_rf, X_train, y_train, cv=5, method='predict_proba')"
   ]
  },
  {
   "cell_type": "code",
   "execution_count": 85,
   "id": "cbf1a067-7d52-4c6b-a6b3-563d9afe09cb",
   "metadata": {
    "tags": []
   },
   "outputs": [
    {
     "data": {
      "text/plain": [
       "array([0.05 , 0.19 , 0.002, ..., 0.93 , 0.99 , 0.01 ])"
      ]
     },
     "execution_count": 85,
     "metadata": {},
     "output_type": "execute_result"
    }
   ],
   "source": [
    "y_scores_forest = y_probas_forest[:,1] #probability of positive class\n",
    "y_scores_forest"
   ]
  },
  {
   "cell_type": "code",
   "execution_count": 86,
   "id": "96261795-cc58-4ad6-9033-14167fa93614",
   "metadata": {
    "tags": []
   },
   "outputs": [],
   "source": [
    "from sklearn.metrics import roc_curve\n",
    "fpr, tpr, threshold = roc_curve(y_train, y_scores_forest)"
   ]
  },
  {
   "cell_type": "code",
   "execution_count": 87,
   "id": "8bd20e61-b1e4-4afb-9fc4-63d759cdebae",
   "metadata": {
    "tags": []
   },
   "outputs": [
    {
     "data": {
      "text/plain": [
       "[<matplotlib.lines.Line2D at 0x184a813c310>]"
      ]
     },
     "execution_count": 87,
     "metadata": {},
     "output_type": "execute_result"
    },
    {
     "data": {
      "image/png": "[encoded data removed]",
      "text/plain": [
       "<Figure size 640x480 with 1 Axes>"
      ]
     },
     "metadata": {},
     "output_type": "display_data"
    }
   ],
   "source": [
    "plt.plot(fpr, tpr) #blue line\n",
    "plt.plot([0,1],[0,1], 'k--') #random classifier"
   ]
  },
  {
   "cell_type": "code",
   "execution_count": 90,
   "id": "65daeefb-fd93-40f0-9437-246c64f9c7a0",
   "metadata": {
    "tags": []
   },
   "outputs": [
    {
     "data": {
      "text/plain": [
       "0.9303364325715926"
      ]
     },
     "execution_count": 90,
     "metadata": {},
     "output_type": "execute_result"
    }
   ],
   "source": [
    "roc_auc_score(y_train, y_scores_forest)"
   ]
  },
  {
   "cell_type": "code",
   "execution_count": 109,
   "id": "60cc80a2-e601-4478-9755-c6cbb9b6b4eb",
   "metadata": {
    "tags": []
   },
   "outputs": [],
   "source": [
    "y_scores_sgd = cross_val_predict(pipeline_sgd, X_train, y_train, cv=5, method='predict_proba')"
   ]
  },
  {
   "cell_type": "code",
   "execution_count": 112,
   "id": "dbca3254-f41c-4ed2-b25c-8b42570d7559",
   "metadata": {
    "tags": []
   },
   "outputs": [
    {
     "data": {
      "text/plain": [
       "0.8672174413292871"
      ]
     },
     "execution_count": 112,
     "metadata": {},
     "output_type": "execute_result"
    }
   ],
   "source": [
    "roc_auc_score(y_train, y_scores_sgd[:,1])"
   ]
  },
  {
   "cell_type": "code",
   "execution_count": null,
   "id": "85bb067a-3aec-4256-aca0-e9f462444653",
   "metadata": {},
   "outputs": [],
   "source": []
  }
 ],
 "metadata": {
  "kernelspec": {
   "display_name": "Python 3 (ipykernel)",
   "language": "python",
   "name": "python3"
  },
  "language_info": {
   "codemirror_mode": {
    "name": "ipython",
    "version": 3
   },
   "file_extension": ".py",
   "mimetype": "text/x-python",
   "name": "python",
   "nbconvert_exporter": "python",
   "pygments_lexer": "ipython3",
   "version": "3.11.5"
  }
 },
 "nbformat": 4,
 "nbformat_minor": 5
}
